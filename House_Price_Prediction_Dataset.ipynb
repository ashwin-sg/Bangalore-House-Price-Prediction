{
 "cells": [
  {
   "cell_type": "markdown",
   "metadata": {},
   "source": [
    "## Data Science Regression Capstone Project: Bangalore House Price Prediction\n",
    "\n",
    "Data is downloaded from: https://www.kaggle.com/"
   ]
  },
  {
   "cell_type": "code",
   "execution_count": 4,
   "metadata": {},
   "outputs": [
    {
     "name": "stdout",
     "output_type": "stream",
     "text": [
      "Collecting package metadata (current_repodata.json): ...working... done\n",
      "Solving environment: ...working... done\n",
      "\n",
      "## Package Plan ##\n",
      "\n",
      "  environment location: C:\\Users\\ashwi\\anaconda3\n",
      "\n",
      "  added / updated specs:\n",
      "    - scikit-learn\n",
      "\n",
      "\n",
      "The following packages will be downloaded:\n",
      "\n",
      "    package                    |            build\n",
      "    ---------------------------|-----------------\n",
      "    conda-4.8.5                |           py38_0         2.9 MB\n",
      "    ------------------------------------------------------------\n",
      "                                           Total:         2.9 MB\n",
      "\n",
      "The following packages will be SUPERSEDED by a higher-priority channel:\n",
      "\n",
      "  conda              conda-forge::conda-4.8.5-py38h32f6830~ --> pkgs/main::conda-4.8.5-py38_0\n",
      "\n",
      "\n",
      "\n",
      "Downloading and Extracting Packages\n",
      "\n",
      "conda-4.8.5          | 2.9 MB    |            |   0% \n",
      "conda-4.8.5          | 2.9 MB    |            |   1% \n",
      "conda-4.8.5          | 2.9 MB    | 2          |   3% \n",
      "conda-4.8.5          | 2.9 MB    | 3          |   3% \n",
      "conda-4.8.5          | 2.9 MB    | 3          |   4% \n",
      "conda-4.8.5          | 2.9 MB    | 4          |   4% \n",
      "conda-4.8.5          | 2.9 MB    | 4          |   5% \n",
      "conda-4.8.5          | 2.9 MB    | 5          |   5% \n",
      "conda-4.8.5          | 2.9 MB    | 7          |   8% \n",
      "conda-4.8.5          | 2.9 MB    | 8          |   8% \n",
      "conda-4.8.5          | 2.9 MB    | #2         |  13% \n",
      "conda-4.8.5          | 2.9 MB    | #3         |  14% \n",
      "conda-4.8.5          | 2.9 MB    | #4         |  14% \n",
      "conda-4.8.5          | 2.9 MB    | #4         |  15% \n",
      "conda-4.8.5          | 2.9 MB    | #5         |  15% \n",
      "conda-4.8.5          | 2.9 MB    | #6         |  16% \n",
      "conda-4.8.5          | 2.9 MB    | #6         |  17% \n",
      "conda-4.8.5          | 2.9 MB    | #7         |  17% \n",
      "conda-4.8.5          | 2.9 MB    | #8         |  18% \n",
      "conda-4.8.5          | 2.9 MB    | #9         |  19% \n",
      "conda-4.8.5          | 2.9 MB    | #9         |  20% \n",
      "conda-4.8.5          | 2.9 MB    | ##         |  20% \n",
      "conda-4.8.5          | 2.9 MB    | ##         |  21% \n",
      "conda-4.8.5          | 2.9 MB    | ##1        |  21% \n",
      "conda-4.8.5          | 2.9 MB    | ##1        |  22% \n",
      "conda-4.8.5          | 2.9 MB    | ##3        |  23% \n",
      "conda-4.8.5          | 2.9 MB    | ##4        |  25% \n",
      "conda-4.8.5          | 2.9 MB    | ##5        |  25% \n",
      "conda-4.8.5          | 2.9 MB    | ##5        |  26% \n",
      "conda-4.8.5          | 2.9 MB    | ##6        |  27% \n",
      "conda-4.8.5          | 2.9 MB    | ##7        |  27% \n",
      "conda-4.8.5          | 2.9 MB    | ##7        |  28% \n",
      "conda-4.8.5          | 2.9 MB    | ##8        |  28% \n",
      "conda-4.8.5          | 2.9 MB    | ##8        |  29% \n",
      "conda-4.8.5          | 2.9 MB    | ##9        |  29% \n",
      "conda-4.8.5          | 2.9 MB    | ###        |  30% \n",
      "conda-4.8.5          | 2.9 MB    | ###        |  31% \n",
      "conda-4.8.5          | 2.9 MB    | ###1       |  31% \n",
      "conda-4.8.5          | 2.9 MB    | ###2       |  32% \n",
      "conda-4.8.5          | 2.9 MB    | ###3       |  33% \n",
      "conda-4.8.5          | 2.9 MB    | ###3       |  34% \n",
      "conda-4.8.5          | 2.9 MB    | ###5       |  36% \n",
      "conda-4.8.5          | 2.9 MB    | ###6       |  36% \n",
      "conda-4.8.5          | 2.9 MB    | ###6       |  37% \n",
      "conda-4.8.5          | 2.9 MB    | ###8       |  38% \n",
      "conda-4.8.5          | 2.9 MB    | ###8       |  39% \n",
      "conda-4.8.5          | 2.9 MB    | ###9       |  39% \n",
      "conda-4.8.5          | 2.9 MB    | ####       |  41% \n",
      "conda-4.8.5          | 2.9 MB    | ####2      |  42% \n",
      "conda-4.8.5          | 2.9 MB    | ####2      |  43% \n",
      "conda-4.8.5          | 2.9 MB    | ####3      |  43% \n",
      "conda-4.8.5          | 2.9 MB    | ####3      |  44% \n",
      "conda-4.8.5          | 2.9 MB    | ####4      |  45% \n",
      "conda-4.8.5          | 2.9 MB    | ####5      |  45% \n",
      "conda-4.8.5          | 2.9 MB    | ####5      |  46% \n",
      "conda-4.8.5          | 2.9 MB    | ####6      |  46% \n",
      "conda-4.8.5          | 2.9 MB    | ####7      |  48% \n",
      "conda-4.8.5          | 2.9 MB    | ####8      |  49% \n",
      "conda-4.8.5          | 2.9 MB    | ####9      |  50% \n",
      "conda-4.8.5          | 2.9 MB    | #####      |  51% \n",
      "conda-4.8.5          | 2.9 MB    | #####1     |  52% \n",
      "conda-4.8.5          | 2.9 MB    | #####2     |  53% \n",
      "conda-4.8.5          | 2.9 MB    | #####4     |  54% \n",
      "conda-4.8.5          | 2.9 MB    | #####5     |  55% \n",
      "conda-4.8.5          | 2.9 MB    | #####6     |  56% \n",
      "conda-4.8.5          | 2.9 MB    | #####7     |  57% \n",
      "conda-4.8.5          | 2.9 MB    | #####8     |  58% \n",
      "conda-4.8.5          | 2.9 MB    | #####9     |  60% \n",
      "conda-4.8.5          | 2.9 MB    | ######     |  61% \n",
      "conda-4.8.5          | 2.9 MB    | ######1    |  61% \n",
      "conda-4.8.5          | 2.9 MB    | ######1    |  62% \n",
      "conda-4.8.5          | 2.9 MB    | ######2    |  62% \n",
      "conda-4.8.5          | 2.9 MB    | ######2    |  63% \n",
      "conda-4.8.5          | 2.9 MB    | ######3    |  63% \n",
      "conda-4.8.5          | 2.9 MB    | ######4    |  65% \n",
      "conda-4.8.5          | 2.9 MB    | ######7    |  68% \n",
      "conda-4.8.5          | 2.9 MB    | ######8    |  69% \n",
      "conda-4.8.5          | 2.9 MB    | ######9    |  70% \n",
      "conda-4.8.5          | 2.9 MB    | #######1   |  71% \n",
      "conda-4.8.5          | 2.9 MB    | #######2   |  73% \n",
      "conda-4.8.5          | 2.9 MB    | #######4   |  75% \n",
      "conda-4.8.5          | 2.9 MB    | #######9   |  79% \n",
      "conda-4.8.5          | 2.9 MB    | ########   |  81% \n",
      "conda-4.8.5          | 2.9 MB    | ########3  |  83% \n",
      "conda-4.8.5          | 2.9 MB    | ########4  |  85% \n",
      "conda-4.8.5          | 2.9 MB    | ########6  |  86% \n",
      "conda-4.8.5          | 2.9 MB    | ########7  |  87% \n",
      "conda-4.8.5          | 2.9 MB    | ########9  |  89% \n",
      "conda-4.8.5          | 2.9 MB    | #########  |  90% \n",
      "conda-4.8.5          | 2.9 MB    | #########1 |  91% \n",
      "conda-4.8.5          | 2.9 MB    | #########2 |  92% \n",
      "conda-4.8.5          | 2.9 MB    | #########3 |  93% \n",
      "conda-4.8.5          | 2.9 MB    | #########4 |  94% \n",
      "conda-4.8.5          | 2.9 MB    | #########6 |  96% \n",
      "conda-4.8.5          | 2.9 MB    | #########7 |  97% \n",
      "conda-4.8.5          | 2.9 MB    | #########7 |  98% \n",
      "conda-4.8.5          | 2.9 MB    | #########8 |  99% \n",
      "conda-4.8.5          | 2.9 MB    | ########## | 100% \n",
      "conda-4.8.5          | 2.9 MB    | ########## | 100% \n",
      "Preparing transaction: ...working... done\n",
      "Verifying transaction: ...working... done\n",
      "Executing transaction: ...working... done\n",
      "Collecting scikit-learnNote: you may need to restart the kernel to use updated packages.\n",
      "  Downloading scikit_learn-0.23.2-cp38-cp38-win_amd64.whl (6.8 MB)\n",
      "Requirement already satisfied, skipping upgrade: joblib>=0.11 in c:\\users\\ashwi\\anaconda3\\lib\\site-packages (from scikit-learn) (0.16.0)\n",
      "Requirement already satisfied, skipping upgrade: threadpoolctl>=2.0.0 in c:\\users\\ashwi\\anaconda3\\lib\\site-packages (from scikit-learn) (2.1.0)\n",
      "Requirement already satisfied, skipping upgrade: numpy>=1.13.3 in c:\\users\\ashwi\\anaconda3\\lib\\site-packages (from scikit-learn) (1.18.5)\n",
      "Requirement already satisfied, skipping upgrade: scipy>=0.19.1 in c:\\users\\ashwi\\anaconda3\\lib\\site-packages (from scikit-learn) (1.5.0)\n",
      "Installing collected packages: scikit-learn\n",
      "  Attempting uninstall: scikit-learn\n",
      "    Found existing installation: scikit-learn 0.23.1\n",
      "    Uninstalling scikit-learn-0.23.1:\n",
      "      Successfully uninstalled scikit-learn-0.23.1\n",
      "Successfully installed scikit-learn-0.23.2\n",
      "\n"
     ]
    }
   ],
   "source": [
    "pip install --upgrade scikit-learn"
   ]
  },
  {
   "cell_type": "code",
   "execution_count": 2,
   "metadata": {},
   "outputs": [],
   "source": [
    "# importing important libraries\n",
    "\n",
    "import pandas as pd\n",
    "import numpy as np\n",
    "import seaborn as sns\n",
    "import matplotlib.pyplot as plt\n",
    "%matplotlib inline"
   ]
  },
  {
   "cell_type": "code",
   "execution_count": 5,
   "metadata": {},
   "outputs": [],
   "source": [
    "df = pd.read_csv('banglore.csv')"
   ]
  },
  {
   "cell_type": "code",
   "execution_count": 6,
   "metadata": {},
   "outputs": [
    {
     "data": {
      "text/plain": [
       "(13320, 9)"
      ]
     },
     "execution_count": 6,
     "metadata": {},
     "output_type": "execute_result"
    }
   ],
   "source": [
    "df.shape"
   ]
  },
  {
   "cell_type": "code",
   "execution_count": 7,
   "metadata": {},
   "outputs": [
    {
     "data": {
      "text/html": [
       "<div>\n",
       "<style scoped>\n",
       "    .dataframe tbody tr th:only-of-type {\n",
       "        vertical-align: middle;\n",
       "    }\n",
       "\n",
       "    .dataframe tbody tr th {\n",
       "        vertical-align: top;\n",
       "    }\n",
       "\n",
       "    .dataframe thead th {\n",
       "        text-align: right;\n",
       "    }\n",
       "</style>\n",
       "<table border=\"1\" class=\"dataframe\">\n",
       "  <thead>\n",
       "    <tr style=\"text-align: right;\">\n",
       "      <th></th>\n",
       "      <th>area_type</th>\n",
       "      <th>availability</th>\n",
       "      <th>location</th>\n",
       "      <th>size</th>\n",
       "      <th>society</th>\n",
       "      <th>total_sqft</th>\n",
       "      <th>bath</th>\n",
       "      <th>balcony</th>\n",
       "      <th>price</th>\n",
       "    </tr>\n",
       "  </thead>\n",
       "  <tbody>\n",
       "    <tr>\n",
       "      <th>0</th>\n",
       "      <td>Super built-up  Area</td>\n",
       "      <td>19-Dec</td>\n",
       "      <td>Electronic City Phase II</td>\n",
       "      <td>2 BHK</td>\n",
       "      <td>Coomee</td>\n",
       "      <td>1056</td>\n",
       "      <td>2.0</td>\n",
       "      <td>1.0</td>\n",
       "      <td>39.07</td>\n",
       "    </tr>\n",
       "    <tr>\n",
       "      <th>1</th>\n",
       "      <td>Plot  Area</td>\n",
       "      <td>Ready To Move</td>\n",
       "      <td>Chikka Tirupathi</td>\n",
       "      <td>4 Bedroom</td>\n",
       "      <td>Theanmp</td>\n",
       "      <td>2600</td>\n",
       "      <td>5.0</td>\n",
       "      <td>3.0</td>\n",
       "      <td>120.00</td>\n",
       "    </tr>\n",
       "    <tr>\n",
       "      <th>2</th>\n",
       "      <td>Built-up  Area</td>\n",
       "      <td>Ready To Move</td>\n",
       "      <td>Uttarahalli</td>\n",
       "      <td>3 BHK</td>\n",
       "      <td>NaN</td>\n",
       "      <td>1440</td>\n",
       "      <td>2.0</td>\n",
       "      <td>3.0</td>\n",
       "      <td>62.00</td>\n",
       "    </tr>\n",
       "    <tr>\n",
       "      <th>3</th>\n",
       "      <td>Super built-up  Area</td>\n",
       "      <td>Ready To Move</td>\n",
       "      <td>Lingadheeranahalli</td>\n",
       "      <td>3 BHK</td>\n",
       "      <td>Soiewre</td>\n",
       "      <td>1521</td>\n",
       "      <td>3.0</td>\n",
       "      <td>1.0</td>\n",
       "      <td>95.00</td>\n",
       "    </tr>\n",
       "    <tr>\n",
       "      <th>4</th>\n",
       "      <td>Super built-up  Area</td>\n",
       "      <td>Ready To Move</td>\n",
       "      <td>Kothanur</td>\n",
       "      <td>2 BHK</td>\n",
       "      <td>NaN</td>\n",
       "      <td>1200</td>\n",
       "      <td>2.0</td>\n",
       "      <td>1.0</td>\n",
       "      <td>51.00</td>\n",
       "    </tr>\n",
       "  </tbody>\n",
       "</table>\n",
       "</div>"
      ],
      "text/plain": [
       "              area_type   availability                  location       size  \\\n",
       "0  Super built-up  Area         19-Dec  Electronic City Phase II      2 BHK   \n",
       "1            Plot  Area  Ready To Move          Chikka Tirupathi  4 Bedroom   \n",
       "2        Built-up  Area  Ready To Move               Uttarahalli      3 BHK   \n",
       "3  Super built-up  Area  Ready To Move        Lingadheeranahalli      3 BHK   \n",
       "4  Super built-up  Area  Ready To Move                  Kothanur      2 BHK   \n",
       "\n",
       "   society total_sqft  bath  balcony   price  \n",
       "0  Coomee        1056   2.0      1.0   39.07  \n",
       "1  Theanmp       2600   5.0      3.0  120.00  \n",
       "2      NaN       1440   2.0      3.0   62.00  \n",
       "3  Soiewre       1521   3.0      1.0   95.00  \n",
       "4      NaN       1200   2.0      1.0   51.00  "
      ]
     },
     "execution_count": 7,
     "metadata": {},
     "output_type": "execute_result"
    }
   ],
   "source": [
    "df.head()"
   ]
  },
  {
   "cell_type": "code",
   "execution_count": 8,
   "metadata": {},
   "outputs": [
    {
     "name": "stdout",
     "output_type": "stream",
     "text": [
      "<class 'pandas.core.frame.DataFrame'>\n",
      "RangeIndex: 13320 entries, 0 to 13319\n",
      "Data columns (total 9 columns):\n",
      " #   Column        Non-Null Count  Dtype  \n",
      "---  ------        --------------  -----  \n",
      " 0   area_type     13320 non-null  object \n",
      " 1   availability  13320 non-null  object \n",
      " 2   location      13319 non-null  object \n",
      " 3   size          13304 non-null  object \n",
      " 4   society       7818 non-null   object \n",
      " 5   total_sqft    13320 non-null  object \n",
      " 6   bath          13247 non-null  float64\n",
      " 7   balcony       12711 non-null  float64\n",
      " 8   price         13320 non-null  float64\n",
      "dtypes: float64(3), object(6)\n",
      "memory usage: 936.7+ KB\n"
     ]
    }
   ],
   "source": [
    "df.info()"
   ]
  },
  {
   "cell_type": "code",
   "execution_count": 9,
   "metadata": {},
   "outputs": [
    {
     "data": {
      "text/html": [
       "<div>\n",
       "<style scoped>\n",
       "    .dataframe tbody tr th:only-of-type {\n",
       "        vertical-align: middle;\n",
       "    }\n",
       "\n",
       "    .dataframe tbody tr th {\n",
       "        vertical-align: top;\n",
       "    }\n",
       "\n",
       "    .dataframe thead th {\n",
       "        text-align: right;\n",
       "    }\n",
       "</style>\n",
       "<table border=\"1\" class=\"dataframe\">\n",
       "  <thead>\n",
       "    <tr style=\"text-align: right;\">\n",
       "      <th></th>\n",
       "      <th>bath</th>\n",
       "      <th>balcony</th>\n",
       "      <th>price</th>\n",
       "    </tr>\n",
       "  </thead>\n",
       "  <tbody>\n",
       "    <tr>\n",
       "      <th>count</th>\n",
       "      <td>13247.000000</td>\n",
       "      <td>12711.000000</td>\n",
       "      <td>13320.000000</td>\n",
       "    </tr>\n",
       "    <tr>\n",
       "      <th>mean</th>\n",
       "      <td>2.692610</td>\n",
       "      <td>1.584376</td>\n",
       "      <td>112.565627</td>\n",
       "    </tr>\n",
       "    <tr>\n",
       "      <th>std</th>\n",
       "      <td>1.341458</td>\n",
       "      <td>0.817263</td>\n",
       "      <td>148.971674</td>\n",
       "    </tr>\n",
       "    <tr>\n",
       "      <th>min</th>\n",
       "      <td>1.000000</td>\n",
       "      <td>0.000000</td>\n",
       "      <td>8.000000</td>\n",
       "    </tr>\n",
       "    <tr>\n",
       "      <th>25%</th>\n",
       "      <td>2.000000</td>\n",
       "      <td>1.000000</td>\n",
       "      <td>50.000000</td>\n",
       "    </tr>\n",
       "    <tr>\n",
       "      <th>50%</th>\n",
       "      <td>2.000000</td>\n",
       "      <td>2.000000</td>\n",
       "      <td>72.000000</td>\n",
       "    </tr>\n",
       "    <tr>\n",
       "      <th>75%</th>\n",
       "      <td>3.000000</td>\n",
       "      <td>2.000000</td>\n",
       "      <td>120.000000</td>\n",
       "    </tr>\n",
       "    <tr>\n",
       "      <th>max</th>\n",
       "      <td>40.000000</td>\n",
       "      <td>3.000000</td>\n",
       "      <td>3600.000000</td>\n",
       "    </tr>\n",
       "  </tbody>\n",
       "</table>\n",
       "</div>"
      ],
      "text/plain": [
       "               bath       balcony         price\n",
       "count  13247.000000  12711.000000  13320.000000\n",
       "mean       2.692610      1.584376    112.565627\n",
       "std        1.341458      0.817263    148.971674\n",
       "min        1.000000      0.000000      8.000000\n",
       "25%        2.000000      1.000000     50.000000\n",
       "50%        2.000000      2.000000     72.000000\n",
       "75%        3.000000      2.000000    120.000000\n",
       "max       40.000000      3.000000   3600.000000"
      ]
     },
     "execution_count": 9,
     "metadata": {},
     "output_type": "execute_result"
    }
   ],
   "source": [
    "df.describe()"
   ]
  },
  {
   "cell_type": "code",
   "execution_count": 10,
   "metadata": {},
   "outputs": [
    {
     "data": {
      "text/plain": [
       "area_type          0\n",
       "availability       0\n",
       "location           1\n",
       "size              16\n",
       "society         5502\n",
       "total_sqft         0\n",
       "bath              73\n",
       "balcony          609\n",
       "price              0\n",
       "dtype: int64"
      ]
     },
     "execution_count": 10,
     "metadata": {},
     "output_type": "execute_result"
    }
   ],
   "source": [
    "# check for null values\n",
    "\n",
    "df.isna().sum()"
   ]
  },
  {
   "cell_type": "markdown",
   "metadata": {},
   "source": [
    "## Data Cleaning\n",
    "\n",
    "<b>1. Handling NaN values</b>"
   ]
  },
  {
   "cell_type": "code",
   "execution_count": 11,
   "metadata": {},
   "outputs": [
    {
     "data": {
      "text/plain": [
       "58.693693693693696"
      ]
     },
     "execution_count": 11,
     "metadata": {},
     "output_type": "execute_result"
    }
   ],
   "source": [
    "# Null values handling\n",
    "\n",
    "df['society'].count() / df.shape[0] * 100"
   ]
  },
  {
   "cell_type": "code",
   "execution_count": 12,
   "metadata": {},
   "outputs": [],
   "source": [
    "# Since 'Society' column contains more 58 percent of null values and also does not seem to be relevant in prediction of price column\n",
    "# we will drop 'society' column\n",
    "\n",
    "df.drop(['society'], axis=1, inplace=True)"
   ]
  },
  {
   "cell_type": "code",
   "execution_count": 13,
   "metadata": {},
   "outputs": [
    {
     "data": {
      "text/plain": [
       "2.0    5113\n",
       "1.0    4897\n",
       "3.0    1672\n",
       "0.0    1029\n",
       "Name: balcony, dtype: int64"
      ]
     },
     "execution_count": 13,
     "metadata": {},
     "output_type": "execute_result"
    }
   ],
   "source": [
    "df['balcony'].value_counts()"
   ]
  },
  {
   "cell_type": "code",
   "execution_count": 14,
   "metadata": {},
   "outputs": [],
   "source": [
    "# we will use KNN imputer to fill null values and create a new column\n",
    "from sklearn.impute import KNNImputer\n",
    "imputer = KNNImputer(n_neighbors=4)\n",
    "df['balcony'] = imputer.fit_transform(df[['balcony']])"
   ]
  },
  {
   "cell_type": "code",
   "execution_count": 15,
   "metadata": {},
   "outputs": [],
   "source": [
    "# Since the number of missing values are very less in remaining columns, we will drop them\n",
    "\n",
    "df.dropna(inplace=True)"
   ]
  },
  {
   "cell_type": "code",
   "execution_count": 16,
   "metadata": {},
   "outputs": [
    {
     "data": {
      "text/plain": [
       "area_type       0\n",
       "availability    0\n",
       "location        0\n",
       "size            0\n",
       "total_sqft      0\n",
       "bath            0\n",
       "balcony         0\n",
       "price           0\n",
       "dtype: int64"
      ]
     },
     "execution_count": 16,
     "metadata": {},
     "output_type": "execute_result"
    }
   ],
   "source": [
    "df.isna().sum()"
   ]
  },
  {
   "cell_type": "markdown",
   "metadata": {},
   "source": [
    "<b> 2. Distplot for features 'bath', 'balcony' and 'price'</b>"
   ]
  },
  {
   "cell_type": "code",
   "execution_count": 17,
   "metadata": {},
   "outputs": [
    {
     "data": {
      "image/png": "[encoded data removed]",
      "text/plain": [
       "<Figure size 864x288 with 3 Axes>"
      ]
     },
     "metadata": {
      "needs_background": "light"
     },
     "output_type": "display_data"
    }
   ],
   "source": [
    "fig, axes = plt.subplots(nrows=1, ncols=3, figsize=(12,4))\n",
    "df.plot(kind='hist', y='bath', bins=40, color='b', ax=axes[0])\n",
    "df.plot(kind='hist', y='balcony', bins=100, color='r', ax=axes[1])\n",
    "df.plot(kind='hist', y='price', bins=40, color='g', ax=axes[2])\n",
    "plt.tight_layout() \n",
    "plt.show()\n"
   ]
  },
  {
   "cell_type": "code",
   "execution_count": 18,
   "metadata": {},
   "outputs": [
    {
     "data": {
      "text/plain": [
       "<matplotlib.axes._subplots.AxesSubplot at 0x2090b2be670>"
      ]
     },
     "execution_count": 18,
     "metadata": {},
     "output_type": "execute_result"
    },
    {
     "data": {
      "image/png": "[encoded data removed]",
      "text/plain": [
       "<Figure size 1800x360 with 1 Axes>"
      ]
     },
     "metadata": {
      "needs_background": "light"
     },
     "output_type": "display_data"
    }
   ],
   "source": [
    "plt.figure(figsize=(25,5))\n",
    "sns.countplot(df['size'])"
   ]
  },
  {
   "cell_type": "markdown",
   "metadata": {},
   "source": [
    "## Feature Engineering\n",
    "\n",
    "<b> 1. Creating a new column for BHK</b>\n",
    "\n"
   ]
  },
  {
   "cell_type": "code",
   "execution_count": 19,
   "metadata": {},
   "outputs": [
    {
     "data": {
      "text/plain": [
       "array(['2 BHK', '4 Bedroom', '3 BHK', '4 BHK', '6 Bedroom', '3 Bedroom',\n",
       "       '1 BHK', '1 RK', '1 Bedroom', '8 Bedroom', '2 Bedroom',\n",
       "       '7 Bedroom', '5 BHK', '7 BHK', '6 BHK', '5 Bedroom', '11 BHK',\n",
       "       '9 BHK', '9 Bedroom', '27 BHK', '10 Bedroom', '11 Bedroom',\n",
       "       '10 BHK', '19 BHK', '16 BHK', '43 Bedroom', '14 BHK', '8 BHK',\n",
       "       '12 Bedroom', '13 BHK', '18 Bedroom'], dtype=object)"
      ]
     },
     "execution_count": 19,
     "metadata": {},
     "output_type": "execute_result"
    }
   ],
   "source": [
    "# check for number of unique values in feature size\n",
    "df['size'].unique()"
   ]
  },
  {
   "cell_type": "code",
   "execution_count": 20,
   "metadata": {},
   "outputs": [],
   "source": [
    "# assigning new values to column BHK\n",
    "df['bhk'] = df['size'].astype(str).str.replace('\\D+', '')"
   ]
  },
  {
   "cell_type": "code",
   "execution_count": 21,
   "metadata": {},
   "outputs": [],
   "source": [
    "# converting column from object to int\n",
    "df['bhk'] = df['bhk'].astype(int)"
   ]
  },
  {
   "cell_type": "code",
   "execution_count": 22,
   "metadata": {},
   "outputs": [],
   "source": [
    "# drop the old 'size' column\n",
    "df.drop(['size'], axis=1, inplace=True)"
   ]
  },
  {
   "cell_type": "code",
   "execution_count": 23,
   "metadata": {},
   "outputs": [
    {
     "data": {
      "text/plain": [
       "<matplotlib.axes._subplots.AxesSubplot at 0x2090b389cd0>"
      ]
     },
     "execution_count": 23,
     "metadata": {},
     "output_type": "execute_result"
    },
    {
     "data": {
      "image/png": "[encoded data removed]",
      "text/plain": [
       "<Figure size 1800x360 with 1 Axes>"
      ]
     },
     "metadata": {
      "needs_background": "light"
     },
     "output_type": "display_data"
    }
   ],
   "source": [
    "plt.figure(figsize=(25,5))\n",
    "sns.countplot(df['bhk'])"
   ]
  },
  {
   "cell_type": "markdown",
   "metadata": {},
   "source": [
    "<b>2. Create a new column for Price per Sq. feet</b>"
   ]
  },
  {
   "cell_type": "code",
   "execution_count": 24,
   "metadata": {},
   "outputs": [
    {
     "data": {
      "text/plain": [
       "['1056',\n",
       " '2600',\n",
       " '1440',\n",
       " '1521',\n",
       " '1200',\n",
       " '1170',\n",
       " '2732',\n",
       " '3300',\n",
       " '1310',\n",
       " '1020',\n",
       " '1800',\n",
       " '2785',\n",
       " '1000',\n",
       " '1100',\n",
       " '2250',\n",
       " '1175',\n",
       " '1180',\n",
       " '1540',\n",
       " '2770',\n",
       " '1100',\n",
       " '600',\n",
       " '1755',\n",
       " '2800',\n",
       " '1767',\n",
       " '510',\n",
       " '1250',\n",
       " '660',\n",
       " '1610',\n",
       " '1151',\n",
       " '1025',\n",
       " '2100 - 2850',\n",
       " '1075',\n",
       " '1760',\n",
       " '1693',\n",
       " '1925',\n",
       " '700',\n",
       " '1070',\n",
       " '1724',\n",
       " '1290',\n",
       " '1143',\n",
       " '1296',\n",
       " '1254',\n",
       " '600',\n",
       " '660',\n",
       " '1330.74',\n",
       " '600',\n",
       " '970',\n",
       " '1459',\n",
       " '800',\n",
       " '869',\n",
       " '1270',\n",
       " '1670',\n",
       " '2010',\n",
       " '1185',\n",
       " '1600',\n",
       " '1200',\n",
       " '1500',\n",
       " '1407',\n",
       " '840',\n",
       " '4395',\n",
       " '845',\n",
       " '5700',\n",
       " '1160',\n",
       " '3000',\n",
       " '1100',\n",
       " '1140',\n",
       " '1220',\n",
       " '1350',\n",
       " '1005',\n",
       " '500',\n",
       " '1358',\n",
       " '1569',\n",
       " '1240',\n",
       " '2089',\n",
       " '1206',\n",
       " '1150',\n",
       " '2511',\n",
       " '460',\n",
       " '4400',\n",
       " '1660',\n",
       " '1326',\n",
       " '1325',\n",
       " '1499',\n",
       " '3000',\n",
       " '1665',\n",
       " '708',\n",
       " '1060',\n",
       " '710',\n",
       " '1000',\n",
       " '1000',\n",
       " '1450',\n",
       " '1200',\n",
       " '1296',\n",
       " '1540',\n",
       " '2894',\n",
       " '1330',\n",
       " '1200',\n",
       " '1200',\n",
       " '2502',\n",
       " '650',\n",
       " '2400',\n",
       " '1007',\n",
       " '1200',\n",
       " '966',\n",
       " '1630',\n",
       " '1640',\n",
       " '782',\n",
       " '1260',\n",
       " '1800',\n",
       " '1413',\n",
       " '1116',\n",
       " '1530',\n",
       " '3700',\n",
       " '2497',\n",
       " '1540',\n",
       " '1436',\n",
       " '1100',\n",
       " '276',\n",
       " '1427',\n",
       " '2061',\n",
       " '3067 - 8156',\n",
       " '2650',\n",
       " '1282',\n",
       " '1050',\n",
       " '1600',\n",
       " '945',\n",
       " '1500',\n",
       " '950',\n",
       " '1870',\n",
       " '1600',\n",
       " '880',\n",
       " '1200',\n",
       " '1535',\n",
       " '950',\n",
       " '1360',\n",
       " '1042 - 1105',\n",
       " '1280',\n",
       " '1260',\n",
       " '5000',\n",
       " '3050',\n",
       " '1563.05',\n",
       " '1000',\n",
       " '1167',\n",
       " '4000',\n",
       " '1828',\n",
       " '890',\n",
       " '1612',\n",
       " '1034',\n",
       " '1710',\n",
       " '957',\n",
       " '1250',\n",
       " '2795',\n",
       " '1125',\n",
       " '1020',\n",
       " '1200',\n",
       " '1735',\n",
       " '2050',\n",
       " '3750',\n",
       " '1350',\n",
       " '1063',\n",
       " '1904',\n",
       " '4200',\n",
       " '2000',\n",
       " '1145 - 1340',\n",
       " '1425',\n",
       " '1500',\n",
       " '1060',\n",
       " '1470',\n",
       " '1300',\n",
       " '450',\n",
       " '1152',\n",
       " '1350',\n",
       " '1550',\n",
       " '1500',\n",
       " '600',\n",
       " '400',\n",
       " '705',\n",
       " '770',\n",
       " '1242',\n",
       " '1700',\n",
       " '2144',\n",
       " '1704',\n",
       " '1070',\n",
       " '1846',\n",
       " '1340',\n",
       " '1025',\n",
       " '1015 - 1540',\n",
       " '1200',\n",
       " '2250',\n",
       " '1550',\n",
       " '1200',\n",
       " '1800',\n",
       " '1200',\n",
       " '1327',\n",
       " '1186',\n",
       " '1783',\n",
       " '1400',\n",
       " '980',\n",
       " '1285',\n",
       " '912',\n",
       " '1225',\n",
       " '1075',\n",
       " '1260',\n",
       " '1282',\n",
       " '1909',\n",
       " '1359',\n",
       " '1207',\n",
       " '1736',\n",
       " '2850',\n",
       " '1595',\n",
       " '1798',\n",
       " '1475',\n",
       " '1580',\n",
       " '1295',\n",
       " '3600',\n",
       " '589',\n",
       " '1415',\n",
       " '1787',\n",
       " '1787',\n",
       " '1475',\n",
       " '2000',\n",
       " '984',\n",
       " '2405',\n",
       " '1080',\n",
       " '1500',\n",
       " '1900',\n",
       " '805',\n",
       " '1153',\n",
       " '1148',\n",
       " '1110',\n",
       " '1100',\n",
       " '1290',\n",
       " '1500',\n",
       " '1080',\n",
       " '1933',\n",
       " '3500',\n",
       " '1060',\n",
       " '645',\n",
       " '2600',\n",
       " '645',\n",
       " '1644',\n",
       " '1285',\n",
       " '1200',\n",
       " '910',\n",
       " '1577',\n",
       " '4050',\n",
       " '2420',\n",
       " '800',\n",
       " '1060',\n",
       " '1270',\n",
       " '900',\n",
       " '1280',\n",
       " '1200',\n",
       " '1025',\n",
       " '1108',\n",
       " '1200',\n",
       " '3045',\n",
       " '2900',\n",
       " '1500',\n",
       " '1295',\n",
       " '1162',\n",
       " '1035',\n",
       " '1600',\n",
       " '1464',\n",
       " '1866',\n",
       " '700',\n",
       " '1804',\n",
       " '913',\n",
       " '1868',\n",
       " '883',\n",
       " '900',\n",
       " '1664',\n",
       " '2026',\n",
       " '1210',\n",
       " '4111',\n",
       " '1762',\n",
       " '1252',\n",
       " '861',\n",
       " '1420',\n",
       " '1450',\n",
       " '1490',\n",
       " '1075',\n",
       " '1425',\n",
       " '1200',\n",
       " '1280',\n",
       " '1084',\n",
       " '1015',\n",
       " '1017',\n",
       " '1027',\n",
       " '1069',\n",
       " '1349',\n",
       " '1005',\n",
       " '1417',\n",
       " '1475',\n",
       " '950',\n",
       " '2000',\n",
       " '880',\n",
       " '1863',\n",
       " '1010',\n",
       " '1425',\n",
       " '1450',\n",
       " '1847',\n",
       " '1100',\n",
       " '525',\n",
       " '1665',\n",
       " '1664',\n",
       " '1850',\n",
       " '1438',\n",
       " '1560',\n",
       " '1350',\n",
       " '1550',\n",
       " '1140',\n",
       " '1200',\n",
       " '850',\n",
       " '1280',\n",
       " '1170',\n",
       " '1113',\n",
       " '1385',\n",
       " '1128',\n",
       " '1200',\n",
       " '1200',\n",
       " '2390',\n",
       " '2400',\n",
       " '1464',\n",
       " '1200',\n",
       " '1200',\n",
       " '1150',\n",
       " '1645',\n",
       " '1000',\n",
       " '2650',\n",
       " '1192',\n",
       " '2135',\n",
       " '1173',\n",
       " '1020',\n",
       " '3122',\n",
       " '1600',\n",
       " '1200',\n",
       " '1230',\n",
       " '1250',\n",
       " '1325',\n",
       " '1850',\n",
       " '1200',\n",
       " '1350',\n",
       " '1260',\n",
       " '1800',\n",
       " '11',\n",
       " '1100',\n",
       " '1508',\n",
       " '1592',\n",
       " '1388',\n",
       " '630',\n",
       " '2000',\n",
       " '1762',\n",
       " '950',\n",
       " '3252',\n",
       " '1116',\n",
       " '1308',\n",
       " '1200',\n",
       " '1500',\n",
       " '500',\n",
       " '1075',\n",
       " '530',\n",
       " '1205',\n",
       " '1075',\n",
       " '930',\n",
       " '1380',\n",
       " '2483',\n",
       " '1166',\n",
       " '1050',\n",
       " '2023.71',\n",
       " '1200',\n",
       " '1600',\n",
       " '1935',\n",
       " '451',\n",
       " '1800',\n",
       " '1400',\n",
       " '1801',\n",
       " '1451',\n",
       " '1200',\n",
       " '1160',\n",
       " '1000',\n",
       " '950',\n",
       " '1629',\n",
       " '1580',\n",
       " '1826',\n",
       " '1245',\n",
       " '1145',\n",
       " '825',\n",
       " '1693',\n",
       " '1113.27',\n",
       " '1460',\n",
       " '1050',\n",
       " '1260',\n",
       " '700',\n",
       " '1656',\n",
       " '1208',\n",
       " '1910',\n",
       " '3252',\n",
       " '1200',\n",
       " '1200',\n",
       " '1175',\n",
       " '1000',\n",
       " '1200',\n",
       " '2390',\n",
       " '12000',\n",
       " '550',\n",
       " '34.46Sq. Meter',\n",
       " '1185',\n",
       " '750',\n",
       " '1200',\n",
       " '1550',\n",
       " '1760',\n",
       " '1125',\n",
       " '1350',\n",
       " '1000',\n",
       " '1090',\n",
       " '1200',\n",
       " '1991',\n",
       " '1060',\n",
       " '1105',\n",
       " '985',\n",
       " '1533',\n",
       " '1590',\n",
       " '1120',\n",
       " '1069',\n",
       " '1933',\n",
       " '1194',\n",
       " '1150',\n",
       " '1240',\n",
       " '1419',\n",
       " '1200',\n",
       " '2150',\n",
       " '1450',\n",
       " '1630',\n",
       " '708',\n",
       " '1000',\n",
       " '11890',\n",
       " '1250',\n",
       " '1400',\n",
       " '1670',\n",
       " '1750',\n",
       " '1404',\n",
       " '1715',\n",
       " '630',\n",
       " '1752.12',\n",
       " '1650',\n",
       " '1295',\n",
       " '1800',\n",
       " '1346',\n",
       " '1200',\n",
       " '1150',\n",
       " '3309',\n",
       " '1190',\n",
       " '1620',\n",
       " '950',\n",
       " '5000',\n",
       " '2450',\n",
       " '1220',\n",
       " '850',\n",
       " '1020',\n",
       " '1100',\n",
       " '1150',\n",
       " '1760',\n",
       " '1800',\n",
       " '1070',\n",
       " '1500',\n",
       " '1440',\n",
       " '900',\n",
       " '1200',\n",
       " '1130',\n",
       " '1320',\n",
       " '1270',\n",
       " '1200',\n",
       " '4800',\n",
       " '1200',\n",
       " '929',\n",
       " '1150',\n",
       " '1125',\n",
       " '500',\n",
       " '1200',\n",
       " '1464',\n",
       " '3600',\n",
       " '2000',\n",
       " '1208',\n",
       " '1130',\n",
       " '1753',\n",
       " '4500',\n",
       " '600',\n",
       " '1196',\n",
       " '1150',\n",
       " '1128',\n",
       " '1000',\n",
       " '1035',\n",
       " '950',\n",
       " '1075',\n",
       " '1040',\n",
       " '720',\n",
       " '1511',\n",
       " '1300',\n",
       " '1545',\n",
       " '375',\n",
       " '1062',\n",
       " '1115',\n",
       " '1000',\n",
       " '883',\n",
       " '1195',\n",
       " '1200',\n",
       " '700',\n",
       " '1246',\n",
       " '660',\n",
       " '8500',\n",
       " '1600',\n",
       " '2805',\n",
       " '1584',\n",
       " '3000',\n",
       " '1175',\n",
       " '1595',\n",
       " '1353',\n",
       " '1599',\n",
       " '1150',\n",
       " '5230',\n",
       " '1155',\n",
       " '1200',\n",
       " '1000',\n",
       " '3000',\n",
       " '1867',\n",
       " '1251',\n",
       " '1028',\n",
       " '1222',\n",
       " '1170',\n",
       " '2400',\n",
       " '1385',\n",
       " '1372',\n",
       " '1282',\n",
       " '5000',\n",
       " '3000',\n",
       " '1135',\n",
       " '1768',\n",
       " '1325',\n",
       " '1599',\n",
       " '1500',\n",
       " '2610',\n",
       " '1286',\n",
       " '2845',\n",
       " '1600',\n",
       " '1195 - 1440',\n",
       " '3450',\n",
       " '1102',\n",
       " '1350',\n",
       " '1200',\n",
       " '1300',\n",
       " '1800',\n",
       " '950',\n",
       " '525',\n",
       " '656',\n",
       " '1780',\n",
       " '1056',\n",
       " '595',\n",
       " '1080',\n",
       " '2225',\n",
       " '1126',\n",
       " '1490',\n",
       " '2000',\n",
       " '1550',\n",
       " '1160',\n",
       " '4144',\n",
       " '2100',\n",
       " '1404',\n",
       " '2230',\n",
       " '1544',\n",
       " '1305',\n",
       " '1230',\n",
       " '1200',\n",
       " '1460',\n",
       " '967',\n",
       " '540',\n",
       " '715',\n",
       " '2500',\n",
       " '1578',\n",
       " '1020',\n",
       " '1020',\n",
       " '1253',\n",
       " '1180',\n",
       " '961',\n",
       " '1419',\n",
       " '1709',\n",
       " '1600',\n",
       " '416',\n",
       " '1100',\n",
       " '1430',\n",
       " '1260',\n",
       " '1630',\n",
       " '1249',\n",
       " '1450',\n",
       " '2791',\n",
       " '600',\n",
       " '834',\n",
       " '1125',\n",
       " '2060',\n",
       " '12000',\n",
       " '891',\n",
       " '1133',\n",
       " '1075',\n",
       " '3000',\n",
       " '2440',\n",
       " '1200',\n",
       " '1075',\n",
       " '1140',\n",
       " '940',\n",
       " '2160',\n",
       " '1090',\n",
       " '1500',\n",
       " '4104',\n",
       " '1790',\n",
       " '1920',\n",
       " '1374',\n",
       " '1445',\n",
       " '711',\n",
       " '1500',\n",
       " '1720',\n",
       " '1400',\n",
       " '1030',\n",
       " '1200',\n",
       " '1375',\n",
       " '1050',\n",
       " '2250',\n",
       " '1000',\n",
       " '469',\n",
       " '3800',\n",
       " '883',\n",
       " '1820',\n",
       " '1440',\n",
       " '3600',\n",
       " '2500',\n",
       " '1225',\n",
       " '4000',\n",
       " '875',\n",
       " '750',\n",
       " '1180',\n",
       " '1194',\n",
       " '1500',\n",
       " '1160',\n",
       " '4125Perch',\n",
       " '2378',\n",
       " '1128',\n",
       " '1500',\n",
       " '1220',\n",
       " '1210',\n",
       " '1100',\n",
       " '1200',\n",
       " '3385',\n",
       " '1641',\n",
       " '1200',\n",
       " '1260',\n",
       " '1720',\n",
       " '1120 - 1145',\n",
       " '1210',\n",
       " '2200',\n",
       " '1075',\n",
       " '1702',\n",
       " '1630',\n",
       " '1141',\n",
       " '2072',\n",
       " '1200',\n",
       " '1350',\n",
       " '3090 - 5002',\n",
       " '1180',\n",
       " '35000',\n",
       " '1355',\n",
       " '600',\n",
       " '1200',\n",
       " '1640',\n",
       " '1200',\n",
       " '1190',\n",
       " '2400',\n",
       " '1019',\n",
       " '1875',\n",
       " '1250',\n",
       " '1200',\n",
       " '1140',\n",
       " '1683',\n",
       " '1515',\n",
       " '2118',\n",
       " '1380',\n",
       " '1083',\n",
       " '600',\n",
       " '2300',\n",
       " '1240',\n",
       " '1750',\n",
       " '1230',\n",
       " '1500',\n",
       " '985',\n",
       " '1500',\n",
       " '1125',\n",
       " '950',\n",
       " '1580',\n",
       " '1092',\n",
       " '1090',\n",
       " '2264',\n",
       " '1033',\n",
       " '810',\n",
       " '1045',\n",
       " '1337',\n",
       " '1200',\n",
       " '1580',\n",
       " '1500',\n",
       " '1640',\n",
       " '1570',\n",
       " '1470',\n",
       " '1160',\n",
       " '1050',\n",
       " '1855',\n",
       " '1460',\n",
       " '1823',\n",
       " '1094',\n",
       " '1153',\n",
       " '1325',\n",
       " '1200',\n",
       " '1590',\n",
       " '1210',\n",
       " '1200',\n",
       " '1202',\n",
       " '1202',\n",
       " '1200',\n",
       " '1688',\n",
       " '1020',\n",
       " '1185',\n",
       " '1235',\n",
       " '3205',\n",
       " '1077',\n",
       " '1415',\n",
       " '2330',\n",
       " '805',\n",
       " '425',\n",
       " '1155',\n",
       " '5270',\n",
       " '656',\n",
       " '1100',\n",
       " '1150',\n",
       " '600',\n",
       " '1468',\n",
       " '4300',\n",
       " '2280',\n",
       " '1341',\n",
       " '1279',\n",
       " '2225',\n",
       " '1185',\n",
       " '1750',\n",
       " '1152',\n",
       " '1000',\n",
       " '1300',\n",
       " '2760',\n",
       " '1070',\n",
       " '1101',\n",
       " '775',\n",
       " '667',\n",
       " '1070',\n",
       " '1875',\n",
       " '735',\n",
       " '4360',\n",
       " '1750',\n",
       " '1215',\n",
       " '600',\n",
       " '820',\n",
       " '1160 - 1195',\n",
       " '1779',\n",
       " '1105',\n",
       " '1000Sq. Meter',\n",
       " '1650',\n",
       " '1694',\n",
       " '2376',\n",
       " '1975',\n",
       " '674',\n",
       " '1185',\n",
       " '445',\n",
       " '900',\n",
       " '1475',\n",
       " '1618',\n",
       " '1120',\n",
       " '2181',\n",
       " '1200',\n",
       " '600',\n",
       " '1556',\n",
       " '1179',\n",
       " '1296',\n",
       " '1275',\n",
       " '1875',\n",
       " '1400',\n",
       " '1222',\n",
       " '940',\n",
       " '1185',\n",
       " '1779',\n",
       " '1615',\n",
       " '1056',\n",
       " '1100',\n",
       " '920',\n",
       " '1602',\n",
       " '1176',\n",
       " '675',\n",
       " '1352',\n",
       " '1717',\n",
       " '10961',\n",
       " '2119',\n",
       " '1246',\n",
       " '1141',\n",
       " '1157',\n",
       " '1025',\n",
       " '650',\n",
       " '1349',\n",
       " '1566',\n",
       " '2830',\n",
       " '1320',\n",
       " '1780',\n",
       " '1091',\n",
       " '3670',\n",
       " '918',\n",
       " '1950',\n",
       " '1695',\n",
       " '1705',\n",
       " '1375',\n",
       " '525',\n",
       " '1447',\n",
       " '1114',\n",
       " '1450',\n",
       " '460',\n",
       " '1022',\n",
       " '1000',\n",
       " '1128',\n",
       " '1180',\n",
       " '1000',\n",
       " '1200',\n",
       " '3761',\n",
       " '1339',\n",
       " '1400',\n",
       " '1040',\n",
       " '1198',\n",
       " '1200',\n",
       " '1691',\n",
       " '1075',\n",
       " '1630',\n",
       " '1240',\n",
       " '1115 - 1130',\n",
       " '1665',\n",
       " '2489',\n",
       " '1142',\n",
       " '1976',\n",
       " '5500',\n",
       " '1853',\n",
       " '600',\n",
       " '1567',\n",
       " '1090',\n",
       " '1200',\n",
       " '2400',\n",
       " '1175',\n",
       " '1200',\n",
       " '995',\n",
       " '884',\n",
       " '900',\n",
       " '1170',\n",
       " '1225',\n",
       " '1342',\n",
       " '1345',\n",
       " '1320',\n",
       " '1100Sq. Yards',\n",
       " '1140',\n",
       " '1300',\n",
       " '1652',\n",
       " '2072',\n",
       " '1740',\n",
       " '1360',\n",
       " '1145',\n",
       " '1540',\n",
       " '1278',\n",
       " '630',\n",
       " '1100',\n",
       " '1200',\n",
       " '2500',\n",
       " '520 - 645',\n",
       " '1015',\n",
       " '3300',\n",
       " '4500',\n",
       " '1356',\n",
       " '823',\n",
       " '1200',\n",
       " '1050',\n",
       " '1180',\n",
       " '1116',\n",
       " '1070',\n",
       " '1385',\n",
       " '1000',\n",
       " '1897',\n",
       " '1005',\n",
       " '1575',\n",
       " '975',\n",
       " '1904',\n",
       " '930',\n",
       " '525',\n",
       " '686',\n",
       " '2400',\n",
       " '1410',\n",
       " '2238',\n",
       " '1174',\n",
       " '3800',\n",
       " '2225',\n",
       " '1250',\n",
       " '918',\n",
       " '1250',\n",
       " '1800',\n",
       " '1170',\n",
       " '1300',\n",
       " '793',\n",
       " '1710',\n",
       " '1082',\n",
       " '1001',\n",
       " '1500',\n",
       " '1590',\n",
       " '2400',\n",
       " '1554',\n",
       " '1000 - 1285',\n",
       " '4239',\n",
       " '884',\n",
       " '1045',\n",
       " '1019',\n",
       " '1935',\n",
       " '1135',\n",
       " '1680',\n",
       " '2470',\n",
       " '2825',\n",
       " '2480',\n",
       " '1260',\n",
       " '1800',\n",
       " '1799',\n",
       " '400',\n",
       " '1047',\n",
       " '1282',\n",
       " '1020',\n",
       " '1080',\n",
       " '1495',\n",
       " '3260',\n",
       " '1611',\n",
       " '3500',\n",
       " '1500',\n",
       " '1500',\n",
       " '3206',\n",
       " '1540',\n",
       " '1639',\n",
       " '700',\n",
       " '1303',\n",
       " '1005',\n",
       " '650 - 665',\n",
       " '1305',\n",
       " '600',\n",
       " '1300',\n",
       " '1440',\n",
       " '901',\n",
       " '1725',\n",
       " '900',\n",
       " '1060',\n",
       " '1020',\n",
       " '1535',\n",
       " '530',\n",
       " '1464',\n",
       " '1350',\n",
       " '1115',\n",
       " '1175',\n",
       " '1113',\n",
       " '1200',\n",
       " '1640',\n",
       " '650',\n",
       " '1325',\n",
       " '950',\n",
       " '1396',\n",
       " '1050',\n",
       " '1825',\n",
       " '1190',\n",
       " '1220',\n",
       " '1565',\n",
       " '1891',\n",
       " '900',\n",
       " '1161',\n",
       " '633 - 666',\n",
       " '2400',\n",
       " '315',\n",
       " '665',\n",
       " '1175',\n",
       " '1425',\n",
       " '1200',\n",
       " '1200',\n",
       " '1255',\n",
       " '2112.95',\n",
       " '600',\n",
       " '1810',\n",
       " '1200',\n",
       " '1033',\n",
       " '1548',\n",
       " '1611',\n",
       " '1400',\n",
       " '1485',\n",
       " '2400',\n",
       " '1025',\n",
       " ...]"
      ]
     },
     "execution_count": 24,
     "metadata": {},
     "output_type": "execute_result"
    }
   ],
   "source": [
    "df['total_sqft'].tolist()"
   ]
  },
  {
   "cell_type": "code",
   "execution_count": 25,
   "metadata": {},
   "outputs": [],
   "source": [
    "# As we can there are some values which in range like '2100 - 2800' and some are in form like '2500 sq. Yards/Meter'\n",
    "# We will take mean when there is range and for other one we will remove it for simplification\n",
    "def convert_sqft_to_num(x):\n",
    "    area = x.split('-')\n",
    "    if len(area) == 2:\n",
    "        return (float(area[0])+float(area[1]))/2\n",
    "    try:\n",
    "        return float(x)\n",
    "    except:\n",
    "        return None"
   ]
  },
  {
   "cell_type": "code",
   "execution_count": 26,
   "metadata": {},
   "outputs": [],
   "source": [
    "df['total_sqft'] = df['total_sqft'].apply(convert_sqft_to_num)"
   ]
  },
  {
   "cell_type": "code",
   "execution_count": 27,
   "metadata": {},
   "outputs": [
    {
     "data": {
      "text/plain": [
       "count    13200.000000\n",
       "mean      1555.302783\n",
       "std       1237.323445\n",
       "min          1.000000\n",
       "25%       1100.000000\n",
       "50%       1275.000000\n",
       "75%       1672.000000\n",
       "max      52272.000000\n",
       "Name: total_sqft, dtype: float64"
      ]
     },
     "execution_count": 27,
     "metadata": {},
     "output_type": "execute_result"
    }
   ],
   "source": [
    "df['total_sqft'].describe()"
   ]
  },
  {
   "cell_type": "code",
   "execution_count": 28,
   "metadata": {},
   "outputs": [],
   "source": [
    "df['price_per_sqft'] = df['price']*100000/df['total_sqft']"
   ]
  },
  {
   "cell_type": "code",
   "execution_count": 29,
   "metadata": {},
   "outputs": [
    {
     "data": {
      "text/plain": [
       "count    1.320000e+04\n",
       "mean     7.920759e+03\n",
       "std      1.067272e+05\n",
       "min      2.678298e+02\n",
       "25%      4.267701e+03\n",
       "50%      5.438331e+03\n",
       "75%      7.317073e+03\n",
       "max      1.200000e+07\n",
       "Name: price_per_sqft, dtype: float64"
      ]
     },
     "execution_count": 29,
     "metadata": {},
     "output_type": "execute_result"
    }
   ],
   "source": [
    "df['price_per_sqft'].describe()"
   ]
  },
  {
   "cell_type": "markdown",
   "metadata": {},
   "source": [
    "<b>3. Dimensionality Reduction for 'location' column</b>"
   ]
  },
  {
   "cell_type": "code",
   "execution_count": 30,
   "metadata": {},
   "outputs": [
    {
     "data": {
      "text/plain": [
       "Whitefield                              534\n",
       "Sarjapur  Road                          392\n",
       "Electronic City                         302\n",
       "Kanakpura Road                          266\n",
       "Thanisandra                             233\n",
       "                                       ... \n",
       "Shauhardha Layout                         1\n",
       "Kalasipalya                               1\n",
       "Muthyala Nagar                            1\n",
       "Kengeri Satellite Town KHB Apartment      1\n",
       "Rukmaiah Layout                           1\n",
       "Name: location, Length: 1304, dtype: int64"
      ]
     },
     "execution_count": 30,
     "metadata": {},
     "output_type": "execute_result"
    }
   ],
   "source": [
    "df['location'].value_counts()"
   ]
  },
  {
   "cell_type": "code",
   "execution_count": 31,
   "metadata": {},
   "outputs": [
    {
     "data": {
      "text/plain": [
       "Whitefield                              534\n",
       "Sarjapur  Road                          392\n",
       "Electronic City                         302\n",
       "Kanakpura Road                          266\n",
       "Thanisandra                             233\n",
       "                                       ... \n",
       "Shauhardha Layout                         1\n",
       "Kalasipalya                               1\n",
       "Muthyala Nagar                            1\n",
       "Kengeri Satellite Town KHB Apartment      1\n",
       "Rukmaiah Layout                           1\n",
       "Name: location, Length: 1304, dtype: int64"
      ]
     },
     "execution_count": 31,
     "metadata": {},
     "output_type": "execute_result"
    }
   ],
   "source": [
    "location_counts = df['location'].value_counts(ascending=False) \n",
    "location_counts"
   ]
  },
  {
   "cell_type": "code",
   "execution_count": 32,
   "metadata": {},
   "outputs": [
    {
     "data": {
      "text/plain": [
       "13246"
      ]
     },
     "execution_count": 32,
     "metadata": {},
     "output_type": "execute_result"
    }
   ],
   "source": [
    "location_counts.values.sum()"
   ]
  },
  {
   "cell_type": "code",
   "execution_count": 33,
   "metadata": {},
   "outputs": [
    {
     "data": {
      "text/plain": [
       "241"
      ]
     },
     "execution_count": 33,
     "metadata": {},
     "output_type": "execute_result"
    }
   ],
   "source": [
    "len(location_counts[location_counts>10])"
   ]
  },
  {
   "cell_type": "code",
   "execution_count": 34,
   "metadata": {},
   "outputs": [
    {
     "data": {
      "text/plain": [
       "Sadashiva Nagar                         10\n",
       "1st Block Koramangala                   10\n",
       "Ganga Nagar                             10\n",
       "Naganathapura                           10\n",
       "Nagadevanahalli                         10\n",
       "                                        ..\n",
       "Shauhardha Layout                        1\n",
       "Kalasipalya                              1\n",
       "Muthyala Nagar                           1\n",
       "Kengeri Satellite Town KHB Apartment     1\n",
       "Rukmaiah Layout                          1\n",
       "Name: location, Length: 1063, dtype: int64"
      ]
     },
     "execution_count": 34,
     "metadata": {},
     "output_type": "execute_result"
    }
   ],
   "source": [
    "# As we can see there 241 locations which have values less than 10 and therefore would not contribute much to our model so we will store them as other\n",
    "\n",
    "location_counts_less_than_10 = location_counts[location_counts<=10]\n",
    "location_counts_less_than_10"
   ]
  },
  {
   "cell_type": "code",
   "execution_count": 35,
   "metadata": {},
   "outputs": [
    {
     "data": {
      "text/plain": [
       "242"
      ]
     },
     "execution_count": 35,
     "metadata": {},
     "output_type": "execute_result"
    }
   ],
   "source": [
    "df['location'] = df['location'].apply(lambda x: 'other' if x in location_counts_less_than_10 else x)\n",
    "len(df['location'].unique())"
   ]
  },
  {
   "cell_type": "code",
   "execution_count": 36,
   "metadata": {},
   "outputs": [
    {
     "data": {
      "text/html": [
       "<div>\n",
       "<style scoped>\n",
       "    .dataframe tbody tr th:only-of-type {\n",
       "        vertical-align: middle;\n",
       "    }\n",
       "\n",
       "    .dataframe tbody tr th {\n",
       "        vertical-align: top;\n",
       "    }\n",
       "\n",
       "    .dataframe thead th {\n",
       "        text-align: right;\n",
       "    }\n",
       "</style>\n",
       "<table border=\"1\" class=\"dataframe\">\n",
       "  <thead>\n",
       "    <tr style=\"text-align: right;\">\n",
       "      <th></th>\n",
       "      <th>area_type</th>\n",
       "      <th>availability</th>\n",
       "      <th>location</th>\n",
       "      <th>total_sqft</th>\n",
       "      <th>bath</th>\n",
       "      <th>balcony</th>\n",
       "      <th>price</th>\n",
       "      <th>bhk</th>\n",
       "      <th>price_per_sqft</th>\n",
       "    </tr>\n",
       "  </thead>\n",
       "  <tbody>\n",
       "    <tr>\n",
       "      <th>0</th>\n",
       "      <td>Super built-up  Area</td>\n",
       "      <td>19-Dec</td>\n",
       "      <td>Electronic City Phase II</td>\n",
       "      <td>1056.0</td>\n",
       "      <td>2.0</td>\n",
       "      <td>1.000000</td>\n",
       "      <td>39.07</td>\n",
       "      <td>2</td>\n",
       "      <td>3699.810606</td>\n",
       "    </tr>\n",
       "    <tr>\n",
       "      <th>1</th>\n",
       "      <td>Plot  Area</td>\n",
       "      <td>Ready To Move</td>\n",
       "      <td>Chikka Tirupathi</td>\n",
       "      <td>2600.0</td>\n",
       "      <td>5.0</td>\n",
       "      <td>3.000000</td>\n",
       "      <td>120.00</td>\n",
       "      <td>4</td>\n",
       "      <td>4615.384615</td>\n",
       "    </tr>\n",
       "    <tr>\n",
       "      <th>2</th>\n",
       "      <td>Built-up  Area</td>\n",
       "      <td>Ready To Move</td>\n",
       "      <td>Uttarahalli</td>\n",
       "      <td>1440.0</td>\n",
       "      <td>2.0</td>\n",
       "      <td>3.000000</td>\n",
       "      <td>62.00</td>\n",
       "      <td>3</td>\n",
       "      <td>4305.555556</td>\n",
       "    </tr>\n",
       "    <tr>\n",
       "      <th>3</th>\n",
       "      <td>Super built-up  Area</td>\n",
       "      <td>Ready To Move</td>\n",
       "      <td>Lingadheeranahalli</td>\n",
       "      <td>1521.0</td>\n",
       "      <td>3.0</td>\n",
       "      <td>1.000000</td>\n",
       "      <td>95.00</td>\n",
       "      <td>3</td>\n",
       "      <td>6245.890861</td>\n",
       "    </tr>\n",
       "    <tr>\n",
       "      <th>4</th>\n",
       "      <td>Super built-up  Area</td>\n",
       "      <td>Ready To Move</td>\n",
       "      <td>Kothanur</td>\n",
       "      <td>1200.0</td>\n",
       "      <td>2.0</td>\n",
       "      <td>1.000000</td>\n",
       "      <td>51.00</td>\n",
       "      <td>2</td>\n",
       "      <td>4250.000000</td>\n",
       "    </tr>\n",
       "    <tr>\n",
       "      <th>5</th>\n",
       "      <td>Super built-up  Area</td>\n",
       "      <td>Ready To Move</td>\n",
       "      <td>Whitefield</td>\n",
       "      <td>1170.0</td>\n",
       "      <td>2.0</td>\n",
       "      <td>1.000000</td>\n",
       "      <td>38.00</td>\n",
       "      <td>2</td>\n",
       "      <td>3247.863248</td>\n",
       "    </tr>\n",
       "    <tr>\n",
       "      <th>6</th>\n",
       "      <td>Super built-up  Area</td>\n",
       "      <td>18-May</td>\n",
       "      <td>Old Airport Road</td>\n",
       "      <td>2732.0</td>\n",
       "      <td>4.0</td>\n",
       "      <td>1.584376</td>\n",
       "      <td>204.00</td>\n",
       "      <td>4</td>\n",
       "      <td>7467.057101</td>\n",
       "    </tr>\n",
       "    <tr>\n",
       "      <th>7</th>\n",
       "      <td>Super built-up  Area</td>\n",
       "      <td>Ready To Move</td>\n",
       "      <td>Rajaji Nagar</td>\n",
       "      <td>3300.0</td>\n",
       "      <td>4.0</td>\n",
       "      <td>1.584376</td>\n",
       "      <td>600.00</td>\n",
       "      <td>4</td>\n",
       "      <td>18181.818182</td>\n",
       "    </tr>\n",
       "    <tr>\n",
       "      <th>8</th>\n",
       "      <td>Super built-up  Area</td>\n",
       "      <td>Ready To Move</td>\n",
       "      <td>Marathahalli</td>\n",
       "      <td>1310.0</td>\n",
       "      <td>3.0</td>\n",
       "      <td>1.000000</td>\n",
       "      <td>63.25</td>\n",
       "      <td>3</td>\n",
       "      <td>4828.244275</td>\n",
       "    </tr>\n",
       "    <tr>\n",
       "      <th>9</th>\n",
       "      <td>Plot  Area</td>\n",
       "      <td>Ready To Move</td>\n",
       "      <td>other</td>\n",
       "      <td>1020.0</td>\n",
       "      <td>6.0</td>\n",
       "      <td>1.584376</td>\n",
       "      <td>370.00</td>\n",
       "      <td>6</td>\n",
       "      <td>36274.509804</td>\n",
       "    </tr>\n",
       "    <tr>\n",
       "      <th>10</th>\n",
       "      <td>Super built-up  Area</td>\n",
       "      <td>18-Feb</td>\n",
       "      <td>Whitefield</td>\n",
       "      <td>1800.0</td>\n",
       "      <td>2.0</td>\n",
       "      <td>2.000000</td>\n",
       "      <td>70.00</td>\n",
       "      <td>3</td>\n",
       "      <td>3888.888889</td>\n",
       "    </tr>\n",
       "    <tr>\n",
       "      <th>11</th>\n",
       "      <td>Plot  Area</td>\n",
       "      <td>Ready To Move</td>\n",
       "      <td>Whitefield</td>\n",
       "      <td>2785.0</td>\n",
       "      <td>5.0</td>\n",
       "      <td>3.000000</td>\n",
       "      <td>295.00</td>\n",
       "      <td>4</td>\n",
       "      <td>10592.459605</td>\n",
       "    </tr>\n",
       "    <tr>\n",
       "      <th>12</th>\n",
       "      <td>Super built-up  Area</td>\n",
       "      <td>Ready To Move</td>\n",
       "      <td>7th Phase JP Nagar</td>\n",
       "      <td>1000.0</td>\n",
       "      <td>2.0</td>\n",
       "      <td>1.000000</td>\n",
       "      <td>38.00</td>\n",
       "      <td>2</td>\n",
       "      <td>3800.000000</td>\n",
       "    </tr>\n",
       "    <tr>\n",
       "      <th>13</th>\n",
       "      <td>Built-up  Area</td>\n",
       "      <td>Ready To Move</td>\n",
       "      <td>Gottigere</td>\n",
       "      <td>1100.0</td>\n",
       "      <td>2.0</td>\n",
       "      <td>2.000000</td>\n",
       "      <td>40.00</td>\n",
       "      <td>2</td>\n",
       "      <td>3636.363636</td>\n",
       "    </tr>\n",
       "    <tr>\n",
       "      <th>14</th>\n",
       "      <td>Plot  Area</td>\n",
       "      <td>Ready To Move</td>\n",
       "      <td>Sarjapur</td>\n",
       "      <td>2250.0</td>\n",
       "      <td>3.0</td>\n",
       "      <td>2.000000</td>\n",
       "      <td>148.00</td>\n",
       "      <td>3</td>\n",
       "      <td>6577.777778</td>\n",
       "    </tr>\n",
       "  </tbody>\n",
       "</table>\n",
       "</div>"
      ],
      "text/plain": [
       "               area_type   availability                  location  total_sqft  \\\n",
       "0   Super built-up  Area         19-Dec  Electronic City Phase II      1056.0   \n",
       "1             Plot  Area  Ready To Move          Chikka Tirupathi      2600.0   \n",
       "2         Built-up  Area  Ready To Move               Uttarahalli      1440.0   \n",
       "3   Super built-up  Area  Ready To Move        Lingadheeranahalli      1521.0   \n",
       "4   Super built-up  Area  Ready To Move                  Kothanur      1200.0   \n",
       "5   Super built-up  Area  Ready To Move                Whitefield      1170.0   \n",
       "6   Super built-up  Area         18-May          Old Airport Road      2732.0   \n",
       "7   Super built-up  Area  Ready To Move              Rajaji Nagar      3300.0   \n",
       "8   Super built-up  Area  Ready To Move              Marathahalli      1310.0   \n",
       "9             Plot  Area  Ready To Move                     other      1020.0   \n",
       "10  Super built-up  Area         18-Feb                Whitefield      1800.0   \n",
       "11            Plot  Area  Ready To Move                Whitefield      2785.0   \n",
       "12  Super built-up  Area  Ready To Move        7th Phase JP Nagar      1000.0   \n",
       "13        Built-up  Area  Ready To Move                 Gottigere      1100.0   \n",
       "14            Plot  Area  Ready To Move                  Sarjapur      2250.0   \n",
       "\n",
       "    bath   balcony   price  bhk  price_per_sqft  \n",
       "0    2.0  1.000000   39.07    2     3699.810606  \n",
       "1    5.0  3.000000  120.00    4     4615.384615  \n",
       "2    2.0  3.000000   62.00    3     4305.555556  \n",
       "3    3.0  1.000000   95.00    3     6245.890861  \n",
       "4    2.0  1.000000   51.00    2     4250.000000  \n",
       "5    2.0  1.000000   38.00    2     3247.863248  \n",
       "6    4.0  1.584376  204.00    4     7467.057101  \n",
       "7    4.0  1.584376  600.00    4    18181.818182  \n",
       "8    3.0  1.000000   63.25    3     4828.244275  \n",
       "9    6.0  1.584376  370.00    6    36274.509804  \n",
       "10   2.0  2.000000   70.00    3     3888.888889  \n",
       "11   5.0  3.000000  295.00    4    10592.459605  \n",
       "12   2.0  1.000000   38.00    2     3800.000000  \n",
       "13   2.0  2.000000   40.00    2     3636.363636  \n",
       "14   3.0  2.000000  148.00    3     6577.777778  "
      ]
     },
     "execution_count": 36,
     "metadata": {},
     "output_type": "execute_result"
    }
   ],
   "source": [
    "df.head(15)"
   ]
  },
  {
   "cell_type": "markdown",
   "metadata": {},
   "source": [
    "<b>4. Outlier detection and removal for area and bhk</b>"
   ]
  },
  {
   "cell_type": "code",
   "execution_count": 37,
   "metadata": {},
   "outputs": [
    {
     "data": {
      "text/html": [
       "<div>\n",
       "<style scoped>\n",
       "    .dataframe tbody tr th:only-of-type {\n",
       "        vertical-align: middle;\n",
       "    }\n",
       "\n",
       "    .dataframe tbody tr th {\n",
       "        vertical-align: top;\n",
       "    }\n",
       "\n",
       "    .dataframe thead th {\n",
       "        text-align: right;\n",
       "    }\n",
       "</style>\n",
       "<table border=\"1\" class=\"dataframe\">\n",
       "  <thead>\n",
       "    <tr style=\"text-align: right;\">\n",
       "      <th></th>\n",
       "      <th>area_type</th>\n",
       "      <th>availability</th>\n",
       "      <th>location</th>\n",
       "      <th>total_sqft</th>\n",
       "      <th>bath</th>\n",
       "      <th>balcony</th>\n",
       "      <th>price</th>\n",
       "      <th>bhk</th>\n",
       "      <th>price_per_sqft</th>\n",
       "    </tr>\n",
       "  </thead>\n",
       "  <tbody>\n",
       "    <tr>\n",
       "      <th>9</th>\n",
       "      <td>Plot  Area</td>\n",
       "      <td>Ready To Move</td>\n",
       "      <td>other</td>\n",
       "      <td>1020.0</td>\n",
       "      <td>6.0</td>\n",
       "      <td>1.584376</td>\n",
       "      <td>370.0</td>\n",
       "      <td>6</td>\n",
       "      <td>36274.509804</td>\n",
       "    </tr>\n",
       "    <tr>\n",
       "      <th>45</th>\n",
       "      <td>Plot  Area</td>\n",
       "      <td>Ready To Move</td>\n",
       "      <td>HSR Layout</td>\n",
       "      <td>600.0</td>\n",
       "      <td>9.0</td>\n",
       "      <td>1.584376</td>\n",
       "      <td>200.0</td>\n",
       "      <td>8</td>\n",
       "      <td>33333.333333</td>\n",
       "    </tr>\n",
       "    <tr>\n",
       "      <th>58</th>\n",
       "      <td>Plot  Area</td>\n",
       "      <td>Ready To Move</td>\n",
       "      <td>Murugeshpalya</td>\n",
       "      <td>1407.0</td>\n",
       "      <td>4.0</td>\n",
       "      <td>1.000000</td>\n",
       "      <td>150.0</td>\n",
       "      <td>6</td>\n",
       "      <td>10660.980810</td>\n",
       "    </tr>\n",
       "    <tr>\n",
       "      <th>68</th>\n",
       "      <td>Plot  Area</td>\n",
       "      <td>Ready To Move</td>\n",
       "      <td>other</td>\n",
       "      <td>1350.0</td>\n",
       "      <td>7.0</td>\n",
       "      <td>0.000000</td>\n",
       "      <td>85.0</td>\n",
       "      <td>8</td>\n",
       "      <td>6296.296296</td>\n",
       "    </tr>\n",
       "    <tr>\n",
       "      <th>70</th>\n",
       "      <td>Plot  Area</td>\n",
       "      <td>Ready To Move</td>\n",
       "      <td>other</td>\n",
       "      <td>500.0</td>\n",
       "      <td>3.0</td>\n",
       "      <td>2.000000</td>\n",
       "      <td>100.0</td>\n",
       "      <td>3</td>\n",
       "      <td>20000.000000</td>\n",
       "    </tr>\n",
       "  </tbody>\n",
       "</table>\n",
       "</div>"
      ],
      "text/plain": [
       "     area_type   availability       location  total_sqft  bath   balcony  \\\n",
       "9   Plot  Area  Ready To Move          other      1020.0   6.0  1.584376   \n",
       "45  Plot  Area  Ready To Move     HSR Layout       600.0   9.0  1.584376   \n",
       "58  Plot  Area  Ready To Move  Murugeshpalya      1407.0   4.0  1.000000   \n",
       "68  Plot  Area  Ready To Move          other      1350.0   7.0  0.000000   \n",
       "70  Plot  Area  Ready To Move          other       500.0   3.0  2.000000   \n",
       "\n",
       "    price  bhk  price_per_sqft  \n",
       "9   370.0    6    36274.509804  \n",
       "45  200.0    8    33333.333333  \n",
       "58  150.0    6    10660.980810  \n",
       "68   85.0    8     6296.296296  \n",
       "70  100.0    3    20000.000000  "
      ]
     },
     "execution_count": 37,
     "metadata": {},
     "output_type": "execute_result"
    }
   ],
   "source": [
    "# Lets check the relation between the area of house and number of bedrooms accordingly\n",
    "\n",
    "df1 = df[df.total_sqft/df.bhk<300]\n",
    "df1.head()"
   ]
  },
  {
   "cell_type": "code",
   "execution_count": 38,
   "metadata": {},
   "outputs": [
    {
     "data": {
      "text/plain": [
       "(744, 9)"
      ]
     },
     "execution_count": 38,
     "metadata": {},
     "output_type": "execute_result"
    }
   ],
   "source": [
    "df1.shape"
   ]
  },
  {
   "cell_type": "code",
   "execution_count": 39,
   "metadata": {},
   "outputs": [
    {
     "data": {
      "text/plain": [
       "(12274, 9)"
      ]
     },
     "execution_count": 39,
     "metadata": {},
     "output_type": "execute_result"
    }
   ],
   "source": [
    "# As we can see, 1000 sqft house with 6 bhk certainfly sounds very inappropritae and also other records as well\n",
    "# Hence we can with any doubt remove them as they could hamper model accuracy\n",
    "\n",
    "df = df[df.total_sqft/df.bhk>300]\n",
    "df.shape"
   ]
  },
  {
   "cell_type": "markdown",
   "metadata": {},
   "source": [
    "<b>5. Outlier detection and removal for column bath</b>"
   ]
  },
  {
   "cell_type": "code",
   "execution_count": 40,
   "metadata": {},
   "outputs": [
    {
     "data": {
      "text/plain": [
       "<matplotlib.axes._subplots.AxesSubplot at 0x2090b448160>"
      ]
     },
     "execution_count": 40,
     "metadata": {},
     "output_type": "execute_result"
    },
    {
     "data": {
      "image/png": "[encoded data removed]",
      "text/plain": [
       "<Figure size 432x288 with 1 Axes>"
      ]
     },
     "metadata": {
      "needs_background": "light"
     },
     "output_type": "display_data"
    }
   ],
   "source": [
    "df1 = df.groupby('bath')['price'].mean().reset_index()\n",
    "df1.plot('bath', 'price', title='Bathrooms vs Price')"
   ]
  },
  {
   "cell_type": "code",
   "execution_count": 41,
   "metadata": {},
   "outputs": [
    {
     "data": {
      "text/plain": [
       "<matplotlib.axes._subplots.AxesSubplot at 0x2090baf84c0>"
      ]
     },
     "execution_count": 41,
     "metadata": {},
     "output_type": "execute_result"
    },
    {
     "data": {
      "image/png": "[encoded data removed]",
      "text/plain": [
       "<Figure size 432x288 with 1 Axes>"
      ]
     },
     "metadata": {
      "needs_background": "light"
     },
     "output_type": "display_data"
    }
   ],
   "source": [
    "df.boxplot(['bath'])"
   ]
  },
  {
   "cell_type": "code",
   "execution_count": 42,
   "metadata": {},
   "outputs": [
    {
     "data": {
      "image/png": "[encoded data removed]",
      "text/plain": [
       "<Figure size 864x432 with 1 Axes>"
      ]
     },
     "metadata": {
      "needs_background": "light"
     },
     "output_type": "display_data"
    }
   ],
   "source": [
    "fig, ax = plt.subplots(figsize=(12,6))\n",
    "ax.scatter(df['bath'], df['price'])\n",
    "ax.set_xlabel('Number of Bathrooms')\n",
    "ax.set_ylabel('House Price')\n",
    "plt.show()"
   ]
  },
  {
   "cell_type": "code",
   "execution_count": 43,
   "metadata": {},
   "outputs": [
    {
     "data": {
      "image/png": "[encoded data removed]",
      "text/plain": [
       "<Figure size 864x432 with 1 Axes>"
      ]
     },
     "metadata": {
      "needs_background": "light"
     },
     "output_type": "display_data"
    }
   ],
   "source": [
    "# Highlight the outliers\n",
    "df1 = df.query('price>3000 or bath>20')\n",
    "fig, ax = plt.subplots(figsize=(12,6))\n",
    "ax.scatter(df['bath'], df['price'])\n",
    "ax.set_xlabel('Number of Bathrooms')\n",
    "ax.set_ylabel('House Price')\n",
    "\n",
    "plt.scatter(x=df1['bath'], y=df1['price'], color='red')\n",
    "plt.show()"
   ]
  },
  {
   "cell_type": "code",
   "execution_count": 44,
   "metadata": {},
   "outputs": [
    {
     "data": {
      "text/plain": [
       "<seaborn.axisgrid.FacetGrid at 0x2090c067850>"
      ]
     },
     "execution_count": 44,
     "metadata": {},
     "output_type": "execute_result"
    },
    {
     "data": {
      "image/png": "[encoded data removed]",
      "text/plain": [
       "<Figure size 576x576 with 1 Axes>"
      ]
     },
     "metadata": {
      "needs_background": "light"
     },
     "output_type": "display_data"
    }
   ],
   "source": [
    "sns.catplot(x='bath', y='bhk', data=df, height=8)"
   ]
  },
  {
   "cell_type": "code",
   "execution_count": 45,
   "metadata": {},
   "outputs": [
    {
     "data": {
      "text/plain": [
       "(12127, 9)"
      ]
     },
     "execution_count": 45,
     "metadata": {},
     "output_type": "execute_result"
    }
   ],
   "source": [
    "# Now from our domain knowledge we know in general there would be BHK+1 number of bathrooms at any home\n",
    "# It is very unlikely that bathrooms numbers will exceed BHK + 2 value\n",
    "# Hence we will all such rows from our dataset as they could be outliers\n",
    "\n",
    "df = df[df.bath<df.bhk+2]\n",
    "df.shape"
   ]
  },
  {
   "cell_type": "markdown",
   "metadata": {},
   "source": [
    "<b>6. Outlier detection and removal for feature price per sqft</b>"
   ]
  },
  {
   "cell_type": "code",
   "execution_count": 46,
   "metadata": {},
   "outputs": [
    {
     "data": {
      "text/plain": [
       "<matplotlib.axes._subplots.AxesSubplot at 0x2090c175880>"
      ]
     },
     "execution_count": 46,
     "metadata": {},
     "output_type": "execute_result"
    },
    {
     "data": {
      "image/png": "[encoded data removed]",
      "text/plain": [
       "<Figure size 432x288 with 1 Axes>"
      ]
     },
     "metadata": {
      "needs_background": "light"
     },
     "output_type": "display_data"
    }
   ],
   "source": [
    "sns.boxplot(df['price_per_sqft'])"
   ]
  },
  {
   "cell_type": "code",
   "execution_count": 47,
   "metadata": {},
   "outputs": [
    {
     "data": {
      "text/plain": [
       "count     12127.000000\n",
       "mean       6150.434976\n",
       "std        3941.096480\n",
       "min         267.829813\n",
       "25%        4194.152471\n",
       "50%        5241.935484\n",
       "75%        6775.622160\n",
       "max      176470.588235\n",
       "Name: price_per_sqft, dtype: float64"
      ]
     },
     "execution_count": 47,
     "metadata": {},
     "output_type": "execute_result"
    }
   ],
   "source": [
    "df['price_per_sqft'].describe()"
   ]
  },
  {
   "cell_type": "code",
   "execution_count": 48,
   "metadata": {},
   "outputs": [
    {
     "data": {
      "text/plain": [
       "(9901, 9)"
      ]
     },
     "execution_count": 48,
     "metadata": {},
     "output_type": "execute_result"
    }
   ],
   "source": [
    "# We can observe here min price/sqft is 267 and max price is 12000000 this shows some variation in prices.\n",
    "# Hence, we should use mean and std deviation to remove outliers\n",
    "\n",
    "def outliers_removal(df):\n",
    "    df_outlier = pd.DataFrame()\n",
    "    \n",
    "    for key, subset in df.groupby(['location']):\n",
    "        m = np.mean(subset['price_per_sqft'])\n",
    "        st = np.std(subset['price_per_sqft'])\n",
    "        removed_df = subset[(subset['price_per_sqft']>(m-st)) & (subset['price_per_sqft']<=(m+st))]\n",
    "        df_outlier = pd.concat([df_outlier,removed_df],ignore_index=True)\n",
    "    return df_outlier\n",
    "\n",
    "df = outliers_removal(df)\n",
    "df.shape"
   ]
  },
  {
   "cell_type": "code",
   "execution_count": 49,
   "metadata": {},
   "outputs": [
    {
     "data": {
      "text/plain": [
       "<matplotlib.axes._subplots.AxesSubplot at 0x2090c1e90d0>"
      ]
     },
     "execution_count": 49,
     "metadata": {},
     "output_type": "execute_result"
    },
    {
     "data": {
      "image/png": "[encoded data removed]",
      "text/plain": [
       "<Figure size 432x288 with 1 Axes>"
      ]
     },
     "metadata": {
      "needs_background": "light"
     },
     "output_type": "display_data"
    }
   ],
   "source": [
    "sns.boxplot(df['price_per_sqft'])"
   ]
  },
  {
   "cell_type": "markdown",
   "metadata": {},
   "source": [
    "### Correlation Check for the features"
   ]
  },
  {
   "cell_type": "code",
   "execution_count": 50,
   "metadata": {},
   "outputs": [
    {
     "data": {
      "text/plain": [
       "<seaborn.axisgrid.PairGrid at 0x2090c265520>"
      ]
     },
     "execution_count": 50,
     "metadata": {},
     "output_type": "execute_result"
    },
    {
     "data": {
      "image/png": "[encoded data removed]",
      "text/plain": [
       "<Figure size 1080x1080 with 42 Axes>"
      ]
     },
     "metadata": {
      "needs_background": "light"
     },
     "output_type": "display_data"
    }
   ],
   "source": [
    "sns.pairplot(df)"
   ]
  },
  {
   "cell_type": "code",
   "execution_count": 51,
   "metadata": {},
   "outputs": [
    {
     "data": {
      "text/plain": [
       "<matplotlib.axes._subplots.AxesSubplot at 0x2090f604490>"
      ]
     },
     "execution_count": 51,
     "metadata": {},
     "output_type": "execute_result"
    },
    {
     "data": {
      "image/png": "[encoded data removed]",
      "text/plain": [
       "<Figure size 432x288 with 2 Axes>"
      ]
     },
     "metadata": {
      "needs_background": "light"
     },
     "output_type": "display_data"
    }
   ],
   "source": [
    "sns.heatmap(df.corr(), annot=True)"
   ]
  },
  {
   "cell_type": "markdown",
   "metadata": {},
   "source": [
    "### One Hot Encoding for 'location' feature"
   ]
  },
  {
   "cell_type": "code",
   "execution_count": 52,
   "metadata": {},
   "outputs": [
    {
     "data": {
      "text/html": [
       "<div>\n",
       "<style scoped>\n",
       "    .dataframe tbody tr th:only-of-type {\n",
       "        vertical-align: middle;\n",
       "    }\n",
       "\n",
       "    .dataframe tbody tr th {\n",
       "        vertical-align: top;\n",
       "    }\n",
       "\n",
       "    .dataframe thead th {\n",
       "        text-align: right;\n",
       "    }\n",
       "</style>\n",
       "<table border=\"1\" class=\"dataframe\">\n",
       "  <thead>\n",
       "    <tr style=\"text-align: right;\">\n",
       "      <th></th>\n",
       "      <th>Devarachikkanahalli</th>\n",
       "      <th>1st Block Jayanagar</th>\n",
       "      <th>1st Phase JP Nagar</th>\n",
       "      <th>2nd Phase Judicial Layout</th>\n",
       "      <th>2nd Stage Nagarbhavi</th>\n",
       "      <th>5th Block Hbr Layout</th>\n",
       "      <th>5th Phase JP Nagar</th>\n",
       "      <th>6th Phase JP Nagar</th>\n",
       "      <th>7th Phase JP Nagar</th>\n",
       "      <th>8th Phase JP Nagar</th>\n",
       "      <th>...</th>\n",
       "      <th>Vishveshwarya Layout</th>\n",
       "      <th>Vishwapriya Layout</th>\n",
       "      <th>Vittasandra</th>\n",
       "      <th>Whitefield</th>\n",
       "      <th>Yelachenahalli</th>\n",
       "      <th>Yelahanka</th>\n",
       "      <th>Yelahanka New Town</th>\n",
       "      <th>Yelenahalli</th>\n",
       "      <th>Yeshwanthpur</th>\n",
       "      <th>other</th>\n",
       "    </tr>\n",
       "  </thead>\n",
       "  <tbody>\n",
       "    <tr>\n",
       "      <th>0</th>\n",
       "      <td>1</td>\n",
       "      <td>0</td>\n",
       "      <td>0</td>\n",
       "      <td>0</td>\n",
       "      <td>0</td>\n",
       "      <td>0</td>\n",
       "      <td>0</td>\n",
       "      <td>0</td>\n",
       "      <td>0</td>\n",
       "      <td>0</td>\n",
       "      <td>...</td>\n",
       "      <td>0</td>\n",
       "      <td>0</td>\n",
       "      <td>0</td>\n",
       "      <td>0</td>\n",
       "      <td>0</td>\n",
       "      <td>0</td>\n",
       "      <td>0</td>\n",
       "      <td>0</td>\n",
       "      <td>0</td>\n",
       "      <td>0</td>\n",
       "    </tr>\n",
       "    <tr>\n",
       "      <th>1</th>\n",
       "      <td>1</td>\n",
       "      <td>0</td>\n",
       "      <td>0</td>\n",
       "      <td>0</td>\n",
       "      <td>0</td>\n",
       "      <td>0</td>\n",
       "      <td>0</td>\n",
       "      <td>0</td>\n",
       "      <td>0</td>\n",
       "      <td>0</td>\n",
       "      <td>...</td>\n",
       "      <td>0</td>\n",
       "      <td>0</td>\n",
       "      <td>0</td>\n",
       "      <td>0</td>\n",
       "      <td>0</td>\n",
       "      <td>0</td>\n",
       "      <td>0</td>\n",
       "      <td>0</td>\n",
       "      <td>0</td>\n",
       "      <td>0</td>\n",
       "    </tr>\n",
       "    <tr>\n",
       "      <th>2</th>\n",
       "      <td>1</td>\n",
       "      <td>0</td>\n",
       "      <td>0</td>\n",
       "      <td>0</td>\n",
       "      <td>0</td>\n",
       "      <td>0</td>\n",
       "      <td>0</td>\n",
       "      <td>0</td>\n",
       "      <td>0</td>\n",
       "      <td>0</td>\n",
       "      <td>...</td>\n",
       "      <td>0</td>\n",
       "      <td>0</td>\n",
       "      <td>0</td>\n",
       "      <td>0</td>\n",
       "      <td>0</td>\n",
       "      <td>0</td>\n",
       "      <td>0</td>\n",
       "      <td>0</td>\n",
       "      <td>0</td>\n",
       "      <td>0</td>\n",
       "    </tr>\n",
       "    <tr>\n",
       "      <th>3</th>\n",
       "      <td>1</td>\n",
       "      <td>0</td>\n",
       "      <td>0</td>\n",
       "      <td>0</td>\n",
       "      <td>0</td>\n",
       "      <td>0</td>\n",
       "      <td>0</td>\n",
       "      <td>0</td>\n",
       "      <td>0</td>\n",
       "      <td>0</td>\n",
       "      <td>...</td>\n",
       "      <td>0</td>\n",
       "      <td>0</td>\n",
       "      <td>0</td>\n",
       "      <td>0</td>\n",
       "      <td>0</td>\n",
       "      <td>0</td>\n",
       "      <td>0</td>\n",
       "      <td>0</td>\n",
       "      <td>0</td>\n",
       "      <td>0</td>\n",
       "    </tr>\n",
       "    <tr>\n",
       "      <th>4</th>\n",
       "      <td>1</td>\n",
       "      <td>0</td>\n",
       "      <td>0</td>\n",
       "      <td>0</td>\n",
       "      <td>0</td>\n",
       "      <td>0</td>\n",
       "      <td>0</td>\n",
       "      <td>0</td>\n",
       "      <td>0</td>\n",
       "      <td>0</td>\n",
       "      <td>...</td>\n",
       "      <td>0</td>\n",
       "      <td>0</td>\n",
       "      <td>0</td>\n",
       "      <td>0</td>\n",
       "      <td>0</td>\n",
       "      <td>0</td>\n",
       "      <td>0</td>\n",
       "      <td>0</td>\n",
       "      <td>0</td>\n",
       "      <td>0</td>\n",
       "    </tr>\n",
       "  </tbody>\n",
       "</table>\n",
       "<p>5 rows × 242 columns</p>\n",
       "</div>"
      ],
      "text/plain": [
       "    Devarachikkanahalli  1st Block Jayanagar  1st Phase JP Nagar  \\\n",
       "0                     1                    0                   0   \n",
       "1                     1                    0                   0   \n",
       "2                     1                    0                   0   \n",
       "3                     1                    0                   0   \n",
       "4                     1                    0                   0   \n",
       "\n",
       "   2nd Phase Judicial Layout  2nd Stage Nagarbhavi  5th Block Hbr Layout  \\\n",
       "0                          0                     0                     0   \n",
       "1                          0                     0                     0   \n",
       "2                          0                     0                     0   \n",
       "3                          0                     0                     0   \n",
       "4                          0                     0                     0   \n",
       "\n",
       "   5th Phase JP Nagar  6th Phase JP Nagar  7th Phase JP Nagar  \\\n",
       "0                   0                   0                   0   \n",
       "1                   0                   0                   0   \n",
       "2                   0                   0                   0   \n",
       "3                   0                   0                   0   \n",
       "4                   0                   0                   0   \n",
       "\n",
       "   8th Phase JP Nagar  ...  Vishveshwarya Layout  Vishwapriya Layout  \\\n",
       "0                   0  ...                     0                   0   \n",
       "1                   0  ...                     0                   0   \n",
       "2                   0  ...                     0                   0   \n",
       "3                   0  ...                     0                   0   \n",
       "4                   0  ...                     0                   0   \n",
       "\n",
       "   Vittasandra  Whitefield  Yelachenahalli  Yelahanka  Yelahanka New Town  \\\n",
       "0            0           0               0          0                   0   \n",
       "1            0           0               0          0                   0   \n",
       "2            0           0               0          0                   0   \n",
       "3            0           0               0          0                   0   \n",
       "4            0           0               0          0                   0   \n",
       "\n",
       "   Yelenahalli  Yeshwanthpur  other  \n",
       "0            0             0      0  \n",
       "1            0             0      0  \n",
       "2            0             0      0  \n",
       "3            0             0      0  \n",
       "4            0             0      0  \n",
       "\n",
       "[5 rows x 242 columns]"
      ]
     },
     "execution_count": 52,
     "metadata": {},
     "output_type": "execute_result"
    }
   ],
   "source": [
    "dummies = pd.get_dummies(df['location'])\n",
    "dummies.head()"
   ]
  },
  {
   "cell_type": "code",
   "execution_count": 53,
   "metadata": {
    "scrolled": true
   },
   "outputs": [
    {
     "data": {
      "text/html": [
       "<div>\n",
       "<style scoped>\n",
       "    .dataframe tbody tr th:only-of-type {\n",
       "        vertical-align: middle;\n",
       "    }\n",
       "\n",
       "    .dataframe tbody tr th {\n",
       "        vertical-align: top;\n",
       "    }\n",
       "\n",
       "    .dataframe thead th {\n",
       "        text-align: right;\n",
       "    }\n",
       "</style>\n",
       "<table border=\"1\" class=\"dataframe\">\n",
       "  <thead>\n",
       "    <tr style=\"text-align: right;\">\n",
       "      <th></th>\n",
       "      <th>area_type</th>\n",
       "      <th>availability</th>\n",
       "      <th>location</th>\n",
       "      <th>total_sqft</th>\n",
       "      <th>bath</th>\n",
       "      <th>balcony</th>\n",
       "      <th>price</th>\n",
       "      <th>bhk</th>\n",
       "      <th>price_per_sqft</th>\n",
       "      <th>Devarachikkanahalli</th>\n",
       "      <th>...</th>\n",
       "      <th>Vijayanagar</th>\n",
       "      <th>Vishveshwarya Layout</th>\n",
       "      <th>Vishwapriya Layout</th>\n",
       "      <th>Vittasandra</th>\n",
       "      <th>Whitefield</th>\n",
       "      <th>Yelachenahalli</th>\n",
       "      <th>Yelahanka</th>\n",
       "      <th>Yelahanka New Town</th>\n",
       "      <th>Yelenahalli</th>\n",
       "      <th>Yeshwanthpur</th>\n",
       "    </tr>\n",
       "  </thead>\n",
       "  <tbody>\n",
       "    <tr>\n",
       "      <th>0</th>\n",
       "      <td>Super built-up  Area</td>\n",
       "      <td>18-May</td>\n",
       "      <td>Devarachikkanahalli</td>\n",
       "      <td>1250.0</td>\n",
       "      <td>2.0</td>\n",
       "      <td>3.0</td>\n",
       "      <td>44.0</td>\n",
       "      <td>3</td>\n",
       "      <td>3520.000000</td>\n",
       "      <td>1</td>\n",
       "      <td>...</td>\n",
       "      <td>0</td>\n",
       "      <td>0</td>\n",
       "      <td>0</td>\n",
       "      <td>0</td>\n",
       "      <td>0</td>\n",
       "      <td>0</td>\n",
       "      <td>0</td>\n",
       "      <td>0</td>\n",
       "      <td>0</td>\n",
       "      <td>0</td>\n",
       "    </tr>\n",
       "    <tr>\n",
       "      <th>1</th>\n",
       "      <td>Super built-up  Area</td>\n",
       "      <td>Ready To Move</td>\n",
       "      <td>Devarachikkanahalli</td>\n",
       "      <td>1250.0</td>\n",
       "      <td>2.0</td>\n",
       "      <td>2.0</td>\n",
       "      <td>40.0</td>\n",
       "      <td>2</td>\n",
       "      <td>3200.000000</td>\n",
       "      <td>1</td>\n",
       "      <td>...</td>\n",
       "      <td>0</td>\n",
       "      <td>0</td>\n",
       "      <td>0</td>\n",
       "      <td>0</td>\n",
       "      <td>0</td>\n",
       "      <td>0</td>\n",
       "      <td>0</td>\n",
       "      <td>0</td>\n",
       "      <td>0</td>\n",
       "      <td>0</td>\n",
       "    </tr>\n",
       "    <tr>\n",
       "      <th>2</th>\n",
       "      <td>Plot  Area</td>\n",
       "      <td>Ready To Move</td>\n",
       "      <td>Devarachikkanahalli</td>\n",
       "      <td>1200.0</td>\n",
       "      <td>2.0</td>\n",
       "      <td>2.0</td>\n",
       "      <td>83.0</td>\n",
       "      <td>2</td>\n",
       "      <td>6916.666667</td>\n",
       "      <td>1</td>\n",
       "      <td>...</td>\n",
       "      <td>0</td>\n",
       "      <td>0</td>\n",
       "      <td>0</td>\n",
       "      <td>0</td>\n",
       "      <td>0</td>\n",
       "      <td>0</td>\n",
       "      <td>0</td>\n",
       "      <td>0</td>\n",
       "      <td>0</td>\n",
       "      <td>0</td>\n",
       "    </tr>\n",
       "    <tr>\n",
       "      <th>3</th>\n",
       "      <td>Super built-up  Area</td>\n",
       "      <td>Ready To Move</td>\n",
       "      <td>Devarachikkanahalli</td>\n",
       "      <td>1170.0</td>\n",
       "      <td>2.0</td>\n",
       "      <td>2.0</td>\n",
       "      <td>40.0</td>\n",
       "      <td>2</td>\n",
       "      <td>3418.803419</td>\n",
       "      <td>1</td>\n",
       "      <td>...</td>\n",
       "      <td>0</td>\n",
       "      <td>0</td>\n",
       "      <td>0</td>\n",
       "      <td>0</td>\n",
       "      <td>0</td>\n",
       "      <td>0</td>\n",
       "      <td>0</td>\n",
       "      <td>0</td>\n",
       "      <td>0</td>\n",
       "      <td>0</td>\n",
       "    </tr>\n",
       "    <tr>\n",
       "      <th>4</th>\n",
       "      <td>Super built-up  Area</td>\n",
       "      <td>Ready To Move</td>\n",
       "      <td>Devarachikkanahalli</td>\n",
       "      <td>1425.0</td>\n",
       "      <td>2.0</td>\n",
       "      <td>2.0</td>\n",
       "      <td>65.0</td>\n",
       "      <td>3</td>\n",
       "      <td>4561.403509</td>\n",
       "      <td>1</td>\n",
       "      <td>...</td>\n",
       "      <td>0</td>\n",
       "      <td>0</td>\n",
       "      <td>0</td>\n",
       "      <td>0</td>\n",
       "      <td>0</td>\n",
       "      <td>0</td>\n",
       "      <td>0</td>\n",
       "      <td>0</td>\n",
       "      <td>0</td>\n",
       "      <td>0</td>\n",
       "    </tr>\n",
       "  </tbody>\n",
       "</table>\n",
       "<p>5 rows × 250 columns</p>\n",
       "</div>"
      ],
      "text/plain": [
       "              area_type   availability              location  total_sqft  \\\n",
       "0  Super built-up  Area         18-May   Devarachikkanahalli      1250.0   \n",
       "1  Super built-up  Area  Ready To Move   Devarachikkanahalli      1250.0   \n",
       "2            Plot  Area  Ready To Move   Devarachikkanahalli      1200.0   \n",
       "3  Super built-up  Area  Ready To Move   Devarachikkanahalli      1170.0   \n",
       "4  Super built-up  Area  Ready To Move   Devarachikkanahalli      1425.0   \n",
       "\n",
       "   bath  balcony  price  bhk  price_per_sqft   Devarachikkanahalli  ...  \\\n",
       "0   2.0      3.0   44.0    3     3520.000000                     1  ...   \n",
       "1   2.0      2.0   40.0    2     3200.000000                     1  ...   \n",
       "2   2.0      2.0   83.0    2     6916.666667                     1  ...   \n",
       "3   2.0      2.0   40.0    2     3418.803419                     1  ...   \n",
       "4   2.0      2.0   65.0    3     4561.403509                     1  ...   \n",
       "\n",
       "   Vijayanagar  Vishveshwarya Layout  Vishwapriya Layout  Vittasandra  \\\n",
       "0            0                     0                   0            0   \n",
       "1            0                     0                   0            0   \n",
       "2            0                     0                   0            0   \n",
       "3            0                     0                   0            0   \n",
       "4            0                     0                   0            0   \n",
       "\n",
       "   Whitefield  Yelachenahalli  Yelahanka  Yelahanka New Town  Yelenahalli  \\\n",
       "0           0               0          0                   0            0   \n",
       "1           0               0          0                   0            0   \n",
       "2           0               0          0                   0            0   \n",
       "3           0               0          0                   0            0   \n",
       "4           0               0          0                   0            0   \n",
       "\n",
       "   Yeshwanthpur  \n",
       "0             0  \n",
       "1             0  \n",
       "2             0  \n",
       "3             0  \n",
       "4             0  \n",
       "\n",
       "[5 rows x 250 columns]"
      ]
     },
     "execution_count": 53,
     "metadata": {},
     "output_type": "execute_result"
    }
   ],
   "source": [
    "df = pd.concat([df,dummies.drop('other',axis='columns')],axis='columns')\n",
    "df.head()"
   ]
  },
  {
   "cell_type": "markdown",
   "metadata": {},
   "source": [
    "### Preparing final dataset for the modelling purpose"
   ]
  },
  {
   "cell_type": "code",
   "execution_count": 54,
   "metadata": {},
   "outputs": [],
   "source": [
    "df.drop(['area_type','availability','location'], axis=1, inplace=True)"
   ]
  },
  {
   "cell_type": "code",
   "execution_count": 55,
   "metadata": {},
   "outputs": [
    {
     "data": {
      "text/html": [
       "<div>\n",
       "<style scoped>\n",
       "    .dataframe tbody tr th:only-of-type {\n",
       "        vertical-align: middle;\n",
       "    }\n",
       "\n",
       "    .dataframe tbody tr th {\n",
       "        vertical-align: top;\n",
       "    }\n",
       "\n",
       "    .dataframe thead th {\n",
       "        text-align: right;\n",
       "    }\n",
       "</style>\n",
       "<table border=\"1\" class=\"dataframe\">\n",
       "  <thead>\n",
       "    <tr style=\"text-align: right;\">\n",
       "      <th></th>\n",
       "      <th>total_sqft</th>\n",
       "      <th>bath</th>\n",
       "      <th>balcony</th>\n",
       "      <th>price</th>\n",
       "      <th>bhk</th>\n",
       "      <th>price_per_sqft</th>\n",
       "      <th>Devarachikkanahalli</th>\n",
       "      <th>1st Block Jayanagar</th>\n",
       "      <th>1st Phase JP Nagar</th>\n",
       "      <th>2nd Phase Judicial Layout</th>\n",
       "      <th>...</th>\n",
       "      <th>Vijayanagar</th>\n",
       "      <th>Vishveshwarya Layout</th>\n",
       "      <th>Vishwapriya Layout</th>\n",
       "      <th>Vittasandra</th>\n",
       "      <th>Whitefield</th>\n",
       "      <th>Yelachenahalli</th>\n",
       "      <th>Yelahanka</th>\n",
       "      <th>Yelahanka New Town</th>\n",
       "      <th>Yelenahalli</th>\n",
       "      <th>Yeshwanthpur</th>\n",
       "    </tr>\n",
       "  </thead>\n",
       "  <tbody>\n",
       "    <tr>\n",
       "      <th>0</th>\n",
       "      <td>1250.0</td>\n",
       "      <td>2.0</td>\n",
       "      <td>3.0</td>\n",
       "      <td>44.0</td>\n",
       "      <td>3</td>\n",
       "      <td>3520.000000</td>\n",
       "      <td>1</td>\n",
       "      <td>0</td>\n",
       "      <td>0</td>\n",
       "      <td>0</td>\n",
       "      <td>...</td>\n",
       "      <td>0</td>\n",
       "      <td>0</td>\n",
       "      <td>0</td>\n",
       "      <td>0</td>\n",
       "      <td>0</td>\n",
       "      <td>0</td>\n",
       "      <td>0</td>\n",
       "      <td>0</td>\n",
       "      <td>0</td>\n",
       "      <td>0</td>\n",
       "    </tr>\n",
       "    <tr>\n",
       "      <th>1</th>\n",
       "      <td>1250.0</td>\n",
       "      <td>2.0</td>\n",
       "      <td>2.0</td>\n",
       "      <td>40.0</td>\n",
       "      <td>2</td>\n",
       "      <td>3200.000000</td>\n",
       "      <td>1</td>\n",
       "      <td>0</td>\n",
       "      <td>0</td>\n",
       "      <td>0</td>\n",
       "      <td>...</td>\n",
       "      <td>0</td>\n",
       "      <td>0</td>\n",
       "      <td>0</td>\n",
       "      <td>0</td>\n",
       "      <td>0</td>\n",
       "      <td>0</td>\n",
       "      <td>0</td>\n",
       "      <td>0</td>\n",
       "      <td>0</td>\n",
       "      <td>0</td>\n",
       "    </tr>\n",
       "    <tr>\n",
       "      <th>2</th>\n",
       "      <td>1200.0</td>\n",
       "      <td>2.0</td>\n",
       "      <td>2.0</td>\n",
       "      <td>83.0</td>\n",
       "      <td>2</td>\n",
       "      <td>6916.666667</td>\n",
       "      <td>1</td>\n",
       "      <td>0</td>\n",
       "      <td>0</td>\n",
       "      <td>0</td>\n",
       "      <td>...</td>\n",
       "      <td>0</td>\n",
       "      <td>0</td>\n",
       "      <td>0</td>\n",
       "      <td>0</td>\n",
       "      <td>0</td>\n",
       "      <td>0</td>\n",
       "      <td>0</td>\n",
       "      <td>0</td>\n",
       "      <td>0</td>\n",
       "      <td>0</td>\n",
       "    </tr>\n",
       "    <tr>\n",
       "      <th>3</th>\n",
       "      <td>1170.0</td>\n",
       "      <td>2.0</td>\n",
       "      <td>2.0</td>\n",
       "      <td>40.0</td>\n",
       "      <td>2</td>\n",
       "      <td>3418.803419</td>\n",
       "      <td>1</td>\n",
       "      <td>0</td>\n",
       "      <td>0</td>\n",
       "      <td>0</td>\n",
       "      <td>...</td>\n",
       "      <td>0</td>\n",
       "      <td>0</td>\n",
       "      <td>0</td>\n",
       "      <td>0</td>\n",
       "      <td>0</td>\n",
       "      <td>0</td>\n",
       "      <td>0</td>\n",
       "      <td>0</td>\n",
       "      <td>0</td>\n",
       "      <td>0</td>\n",
       "    </tr>\n",
       "    <tr>\n",
       "      <th>4</th>\n",
       "      <td>1425.0</td>\n",
       "      <td>2.0</td>\n",
       "      <td>2.0</td>\n",
       "      <td>65.0</td>\n",
       "      <td>3</td>\n",
       "      <td>4561.403509</td>\n",
       "      <td>1</td>\n",
       "      <td>0</td>\n",
       "      <td>0</td>\n",
       "      <td>0</td>\n",
       "      <td>...</td>\n",
       "      <td>0</td>\n",
       "      <td>0</td>\n",
       "      <td>0</td>\n",
       "      <td>0</td>\n",
       "      <td>0</td>\n",
       "      <td>0</td>\n",
       "      <td>0</td>\n",
       "      <td>0</td>\n",
       "      <td>0</td>\n",
       "      <td>0</td>\n",
       "    </tr>\n",
       "  </tbody>\n",
       "</table>\n",
       "<p>5 rows × 247 columns</p>\n",
       "</div>"
      ],
      "text/plain": [
       "   total_sqft  bath  balcony  price  bhk  price_per_sqft  \\\n",
       "0      1250.0   2.0      3.0   44.0    3     3520.000000   \n",
       "1      1250.0   2.0      2.0   40.0    2     3200.000000   \n",
       "2      1200.0   2.0      2.0   83.0    2     6916.666667   \n",
       "3      1170.0   2.0      2.0   40.0    2     3418.803419   \n",
       "4      1425.0   2.0      2.0   65.0    3     4561.403509   \n",
       "\n",
       "    Devarachikkanahalli  1st Block Jayanagar  1st Phase JP Nagar  \\\n",
       "0                     1                    0                   0   \n",
       "1                     1                    0                   0   \n",
       "2                     1                    0                   0   \n",
       "3                     1                    0                   0   \n",
       "4                     1                    0                   0   \n",
       "\n",
       "   2nd Phase Judicial Layout  ...  Vijayanagar  Vishveshwarya Layout  \\\n",
       "0                          0  ...            0                     0   \n",
       "1                          0  ...            0                     0   \n",
       "2                          0  ...            0                     0   \n",
       "3                          0  ...            0                     0   \n",
       "4                          0  ...            0                     0   \n",
       "\n",
       "   Vishwapriya Layout  Vittasandra  Whitefield  Yelachenahalli  Yelahanka  \\\n",
       "0                   0            0           0               0          0   \n",
       "1                   0            0           0               0          0   \n",
       "2                   0            0           0               0          0   \n",
       "3                   0            0           0               0          0   \n",
       "4                   0            0           0               0          0   \n",
       "\n",
       "   Yelahanka New Town  Yelenahalli  Yeshwanthpur  \n",
       "0                   0            0             0  \n",
       "1                   0            0             0  \n",
       "2                   0            0             0  \n",
       "3                   0            0             0  \n",
       "4                   0            0             0  \n",
       "\n",
       "[5 rows x 247 columns]"
      ]
     },
     "execution_count": 55,
     "metadata": {},
     "output_type": "execute_result"
    }
   ],
   "source": [
    "df.head()"
   ]
  },
  {
   "cell_type": "code",
   "execution_count": 56,
   "metadata": {},
   "outputs": [],
   "source": [
    "# we don't need price per sqft column no more, hence we will drop that as well\n",
    "\n",
    "df.drop(['price_per_sqft'], axis=1, inplace=True)"
   ]
  },
  {
   "cell_type": "code",
   "execution_count": 57,
   "metadata": {},
   "outputs": [
    {
     "data": {
      "text/html": [
       "<div>\n",
       "<style scoped>\n",
       "    .dataframe tbody tr th:only-of-type {\n",
       "        vertical-align: middle;\n",
       "    }\n",
       "\n",
       "    .dataframe tbody tr th {\n",
       "        vertical-align: top;\n",
       "    }\n",
       "\n",
       "    .dataframe thead th {\n",
       "        text-align: right;\n",
       "    }\n",
       "</style>\n",
       "<table border=\"1\" class=\"dataframe\">\n",
       "  <thead>\n",
       "    <tr style=\"text-align: right;\">\n",
       "      <th></th>\n",
       "      <th>total_sqft</th>\n",
       "      <th>bath</th>\n",
       "      <th>balcony</th>\n",
       "      <th>price</th>\n",
       "      <th>bhk</th>\n",
       "      <th>Devarachikkanahalli</th>\n",
       "      <th>1st Block Jayanagar</th>\n",
       "      <th>1st Phase JP Nagar</th>\n",
       "      <th>2nd Phase Judicial Layout</th>\n",
       "      <th>2nd Stage Nagarbhavi</th>\n",
       "      <th>...</th>\n",
       "      <th>Vijayanagar</th>\n",
       "      <th>Vishveshwarya Layout</th>\n",
       "      <th>Vishwapriya Layout</th>\n",
       "      <th>Vittasandra</th>\n",
       "      <th>Whitefield</th>\n",
       "      <th>Yelachenahalli</th>\n",
       "      <th>Yelahanka</th>\n",
       "      <th>Yelahanka New Town</th>\n",
       "      <th>Yelenahalli</th>\n",
       "      <th>Yeshwanthpur</th>\n",
       "    </tr>\n",
       "  </thead>\n",
       "  <tbody>\n",
       "    <tr>\n",
       "      <th>0</th>\n",
       "      <td>1250.0</td>\n",
       "      <td>2.0</td>\n",
       "      <td>3.0</td>\n",
       "      <td>44.0</td>\n",
       "      <td>3</td>\n",
       "      <td>1</td>\n",
       "      <td>0</td>\n",
       "      <td>0</td>\n",
       "      <td>0</td>\n",
       "      <td>0</td>\n",
       "      <td>...</td>\n",
       "      <td>0</td>\n",
       "      <td>0</td>\n",
       "      <td>0</td>\n",
       "      <td>0</td>\n",
       "      <td>0</td>\n",
       "      <td>0</td>\n",
       "      <td>0</td>\n",
       "      <td>0</td>\n",
       "      <td>0</td>\n",
       "      <td>0</td>\n",
       "    </tr>\n",
       "    <tr>\n",
       "      <th>1</th>\n",
       "      <td>1250.0</td>\n",
       "      <td>2.0</td>\n",
       "      <td>2.0</td>\n",
       "      <td>40.0</td>\n",
       "      <td>2</td>\n",
       "      <td>1</td>\n",
       "      <td>0</td>\n",
       "      <td>0</td>\n",
       "      <td>0</td>\n",
       "      <td>0</td>\n",
       "      <td>...</td>\n",
       "      <td>0</td>\n",
       "      <td>0</td>\n",
       "      <td>0</td>\n",
       "      <td>0</td>\n",
       "      <td>0</td>\n",
       "      <td>0</td>\n",
       "      <td>0</td>\n",
       "      <td>0</td>\n",
       "      <td>0</td>\n",
       "      <td>0</td>\n",
       "    </tr>\n",
       "    <tr>\n",
       "      <th>2</th>\n",
       "      <td>1200.0</td>\n",
       "      <td>2.0</td>\n",
       "      <td>2.0</td>\n",
       "      <td>83.0</td>\n",
       "      <td>2</td>\n",
       "      <td>1</td>\n",
       "      <td>0</td>\n",
       "      <td>0</td>\n",
       "      <td>0</td>\n",
       "      <td>0</td>\n",
       "      <td>...</td>\n",
       "      <td>0</td>\n",
       "      <td>0</td>\n",
       "      <td>0</td>\n",
       "      <td>0</td>\n",
       "      <td>0</td>\n",
       "      <td>0</td>\n",
       "      <td>0</td>\n",
       "      <td>0</td>\n",
       "      <td>0</td>\n",
       "      <td>0</td>\n",
       "    </tr>\n",
       "    <tr>\n",
       "      <th>3</th>\n",
       "      <td>1170.0</td>\n",
       "      <td>2.0</td>\n",
       "      <td>2.0</td>\n",
       "      <td>40.0</td>\n",
       "      <td>2</td>\n",
       "      <td>1</td>\n",
       "      <td>0</td>\n",
       "      <td>0</td>\n",
       "      <td>0</td>\n",
       "      <td>0</td>\n",
       "      <td>...</td>\n",
       "      <td>0</td>\n",
       "      <td>0</td>\n",
       "      <td>0</td>\n",
       "      <td>0</td>\n",
       "      <td>0</td>\n",
       "      <td>0</td>\n",
       "      <td>0</td>\n",
       "      <td>0</td>\n",
       "      <td>0</td>\n",
       "      <td>0</td>\n",
       "    </tr>\n",
       "    <tr>\n",
       "      <th>4</th>\n",
       "      <td>1425.0</td>\n",
       "      <td>2.0</td>\n",
       "      <td>2.0</td>\n",
       "      <td>65.0</td>\n",
       "      <td>3</td>\n",
       "      <td>1</td>\n",
       "      <td>0</td>\n",
       "      <td>0</td>\n",
       "      <td>0</td>\n",
       "      <td>0</td>\n",
       "      <td>...</td>\n",
       "      <td>0</td>\n",
       "      <td>0</td>\n",
       "      <td>0</td>\n",
       "      <td>0</td>\n",
       "      <td>0</td>\n",
       "      <td>0</td>\n",
       "      <td>0</td>\n",
       "      <td>0</td>\n",
       "      <td>0</td>\n",
       "      <td>0</td>\n",
       "    </tr>\n",
       "  </tbody>\n",
       "</table>\n",
       "<p>5 rows × 246 columns</p>\n",
       "</div>"
      ],
      "text/plain": [
       "   total_sqft  bath  balcony  price  bhk   Devarachikkanahalli  \\\n",
       "0      1250.0   2.0      3.0   44.0    3                     1   \n",
       "1      1250.0   2.0      2.0   40.0    2                     1   \n",
       "2      1200.0   2.0      2.0   83.0    2                     1   \n",
       "3      1170.0   2.0      2.0   40.0    2                     1   \n",
       "4      1425.0   2.0      2.0   65.0    3                     1   \n",
       "\n",
       "   1st Block Jayanagar  1st Phase JP Nagar  2nd Phase Judicial Layout  \\\n",
       "0                    0                   0                          0   \n",
       "1                    0                   0                          0   \n",
       "2                    0                   0                          0   \n",
       "3                    0                   0                          0   \n",
       "4                    0                   0                          0   \n",
       "\n",
       "   2nd Stage Nagarbhavi  ...  Vijayanagar  Vishveshwarya Layout  \\\n",
       "0                     0  ...            0                     0   \n",
       "1                     0  ...            0                     0   \n",
       "2                     0  ...            0                     0   \n",
       "3                     0  ...            0                     0   \n",
       "4                     0  ...            0                     0   \n",
       "\n",
       "   Vishwapriya Layout  Vittasandra  Whitefield  Yelachenahalli  Yelahanka  \\\n",
       "0                   0            0           0               0          0   \n",
       "1                   0            0           0               0          0   \n",
       "2                   0            0           0               0          0   \n",
       "3                   0            0           0               0          0   \n",
       "4                   0            0           0               0          0   \n",
       "\n",
       "   Yelahanka New Town  Yelenahalli  Yeshwanthpur  \n",
       "0                   0            0             0  \n",
       "1                   0            0             0  \n",
       "2                   0            0             0  \n",
       "3                   0            0             0  \n",
       "4                   0            0             0  \n",
       "\n",
       "[5 rows x 246 columns]"
      ]
     },
     "execution_count": 57,
     "metadata": {},
     "output_type": "execute_result"
    }
   ],
   "source": [
    "df.head()"
   ]
  },
  {
   "cell_type": "markdown",
   "metadata": {},
   "source": [
    "### Train Test Split"
   ]
  },
  {
   "cell_type": "code",
   "execution_count": 58,
   "metadata": {},
   "outputs": [],
   "source": [
    "X = df.drop(['price'], axis=1)\n",
    "y = df['price']"
   ]
  },
  {
   "cell_type": "code",
   "execution_count": 59,
   "metadata": {},
   "outputs": [
    {
     "data": {
      "text/html": [
       "<div>\n",
       "<style scoped>\n",
       "    .dataframe tbody tr th:only-of-type {\n",
       "        vertical-align: middle;\n",
       "    }\n",
       "\n",
       "    .dataframe tbody tr th {\n",
       "        vertical-align: top;\n",
       "    }\n",
       "\n",
       "    .dataframe thead th {\n",
       "        text-align: right;\n",
       "    }\n",
       "</style>\n",
       "<table border=\"1\" class=\"dataframe\">\n",
       "  <thead>\n",
       "    <tr style=\"text-align: right;\">\n",
       "      <th></th>\n",
       "      <th>total_sqft</th>\n",
       "      <th>bath</th>\n",
       "      <th>balcony</th>\n",
       "      <th>bhk</th>\n",
       "      <th>Devarachikkanahalli</th>\n",
       "      <th>1st Block Jayanagar</th>\n",
       "      <th>1st Phase JP Nagar</th>\n",
       "      <th>2nd Phase Judicial Layout</th>\n",
       "      <th>2nd Stage Nagarbhavi</th>\n",
       "      <th>5th Block Hbr Layout</th>\n",
       "      <th>...</th>\n",
       "      <th>Vijayanagar</th>\n",
       "      <th>Vishveshwarya Layout</th>\n",
       "      <th>Vishwapriya Layout</th>\n",
       "      <th>Vittasandra</th>\n",
       "      <th>Whitefield</th>\n",
       "      <th>Yelachenahalli</th>\n",
       "      <th>Yelahanka</th>\n",
       "      <th>Yelahanka New Town</th>\n",
       "      <th>Yelenahalli</th>\n",
       "      <th>Yeshwanthpur</th>\n",
       "    </tr>\n",
       "  </thead>\n",
       "  <tbody>\n",
       "    <tr>\n",
       "      <th>0</th>\n",
       "      <td>1250.0</td>\n",
       "      <td>2.0</td>\n",
       "      <td>3.0</td>\n",
       "      <td>3</td>\n",
       "      <td>1</td>\n",
       "      <td>0</td>\n",
       "      <td>0</td>\n",
       "      <td>0</td>\n",
       "      <td>0</td>\n",
       "      <td>0</td>\n",
       "      <td>...</td>\n",
       "      <td>0</td>\n",
       "      <td>0</td>\n",
       "      <td>0</td>\n",
       "      <td>0</td>\n",
       "      <td>0</td>\n",
       "      <td>0</td>\n",
       "      <td>0</td>\n",
       "      <td>0</td>\n",
       "      <td>0</td>\n",
       "      <td>0</td>\n",
       "    </tr>\n",
       "    <tr>\n",
       "      <th>1</th>\n",
       "      <td>1250.0</td>\n",
       "      <td>2.0</td>\n",
       "      <td>2.0</td>\n",
       "      <td>2</td>\n",
       "      <td>1</td>\n",
       "      <td>0</td>\n",
       "      <td>0</td>\n",
       "      <td>0</td>\n",
       "      <td>0</td>\n",
       "      <td>0</td>\n",
       "      <td>...</td>\n",
       "      <td>0</td>\n",
       "      <td>0</td>\n",
       "      <td>0</td>\n",
       "      <td>0</td>\n",
       "      <td>0</td>\n",
       "      <td>0</td>\n",
       "      <td>0</td>\n",
       "      <td>0</td>\n",
       "      <td>0</td>\n",
       "      <td>0</td>\n",
       "    </tr>\n",
       "    <tr>\n",
       "      <th>2</th>\n",
       "      <td>1200.0</td>\n",
       "      <td>2.0</td>\n",
       "      <td>2.0</td>\n",
       "      <td>2</td>\n",
       "      <td>1</td>\n",
       "      <td>0</td>\n",
       "      <td>0</td>\n",
       "      <td>0</td>\n",
       "      <td>0</td>\n",
       "      <td>0</td>\n",
       "      <td>...</td>\n",
       "      <td>0</td>\n",
       "      <td>0</td>\n",
       "      <td>0</td>\n",
       "      <td>0</td>\n",
       "      <td>0</td>\n",
       "      <td>0</td>\n",
       "      <td>0</td>\n",
       "      <td>0</td>\n",
       "      <td>0</td>\n",
       "      <td>0</td>\n",
       "    </tr>\n",
       "    <tr>\n",
       "      <th>3</th>\n",
       "      <td>1170.0</td>\n",
       "      <td>2.0</td>\n",
       "      <td>2.0</td>\n",
       "      <td>2</td>\n",
       "      <td>1</td>\n",
       "      <td>0</td>\n",
       "      <td>0</td>\n",
       "      <td>0</td>\n",
       "      <td>0</td>\n",
       "      <td>0</td>\n",
       "      <td>...</td>\n",
       "      <td>0</td>\n",
       "      <td>0</td>\n",
       "      <td>0</td>\n",
       "      <td>0</td>\n",
       "      <td>0</td>\n",
       "      <td>0</td>\n",
       "      <td>0</td>\n",
       "      <td>0</td>\n",
       "      <td>0</td>\n",
       "      <td>0</td>\n",
       "    </tr>\n",
       "    <tr>\n",
       "      <th>4</th>\n",
       "      <td>1425.0</td>\n",
       "      <td>2.0</td>\n",
       "      <td>2.0</td>\n",
       "      <td>3</td>\n",
       "      <td>1</td>\n",
       "      <td>0</td>\n",
       "      <td>0</td>\n",
       "      <td>0</td>\n",
       "      <td>0</td>\n",
       "      <td>0</td>\n",
       "      <td>...</td>\n",
       "      <td>0</td>\n",
       "      <td>0</td>\n",
       "      <td>0</td>\n",
       "      <td>0</td>\n",
       "      <td>0</td>\n",
       "      <td>0</td>\n",
       "      <td>0</td>\n",
       "      <td>0</td>\n",
       "      <td>0</td>\n",
       "      <td>0</td>\n",
       "    </tr>\n",
       "  </tbody>\n",
       "</table>\n",
       "<p>5 rows × 245 columns</p>\n",
       "</div>"
      ],
      "text/plain": [
       "   total_sqft  bath  balcony  bhk   Devarachikkanahalli  1st Block Jayanagar  \\\n",
       "0      1250.0   2.0      3.0    3                     1                    0   \n",
       "1      1250.0   2.0      2.0    2                     1                    0   \n",
       "2      1200.0   2.0      2.0    2                     1                    0   \n",
       "3      1170.0   2.0      2.0    2                     1                    0   \n",
       "4      1425.0   2.0      2.0    3                     1                    0   \n",
       "\n",
       "   1st Phase JP Nagar  2nd Phase Judicial Layout  2nd Stage Nagarbhavi  \\\n",
       "0                   0                          0                     0   \n",
       "1                   0                          0                     0   \n",
       "2                   0                          0                     0   \n",
       "3                   0                          0                     0   \n",
       "4                   0                          0                     0   \n",
       "\n",
       "   5th Block Hbr Layout  ...  Vijayanagar  Vishveshwarya Layout  \\\n",
       "0                     0  ...            0                     0   \n",
       "1                     0  ...            0                     0   \n",
       "2                     0  ...            0                     0   \n",
       "3                     0  ...            0                     0   \n",
       "4                     0  ...            0                     0   \n",
       "\n",
       "   Vishwapriya Layout  Vittasandra  Whitefield  Yelachenahalli  Yelahanka  \\\n",
       "0                   0            0           0               0          0   \n",
       "1                   0            0           0               0          0   \n",
       "2                   0            0           0               0          0   \n",
       "3                   0            0           0               0          0   \n",
       "4                   0            0           0               0          0   \n",
       "\n",
       "   Yelahanka New Town  Yelenahalli  Yeshwanthpur  \n",
       "0                   0            0             0  \n",
       "1                   0            0             0  \n",
       "2                   0            0             0  \n",
       "3                   0            0             0  \n",
       "4                   0            0             0  \n",
       "\n",
       "[5 rows x 245 columns]"
      ]
     },
     "execution_count": 59,
     "metadata": {},
     "output_type": "execute_result"
    }
   ],
   "source": [
    "X.head()"
   ]
  },
  {
   "cell_type": "code",
   "execution_count": 60,
   "metadata": {},
   "outputs": [
    {
     "data": {
      "text/plain": [
       "0        44.00\n",
       "1        40.00\n",
       "2        83.00\n",
       "3        40.00\n",
       "4        65.00\n",
       "         ...  \n",
       "9896    110.00\n",
       "9897     26.00\n",
       "9898     63.93\n",
       "9899     48.00\n",
       "9900    400.00\n",
       "Name: price, Length: 9901, dtype: float64"
      ]
     },
     "execution_count": 60,
     "metadata": {},
     "output_type": "execute_result"
    }
   ],
   "source": [
    "y"
   ]
  },
  {
   "cell_type": "code",
   "execution_count": 61,
   "metadata": {},
   "outputs": [],
   "source": [
    "from sklearn.model_selection import train_test_split\n",
    "X_train, X_test, y_train, y_test = train_test_split(X,y,test_size=0.2,random_state=25)"
   ]
  },
  {
   "cell_type": "code",
   "execution_count": 62,
   "metadata": {},
   "outputs": [
    {
     "name": "stdout",
     "output_type": "stream",
     "text": [
      "(7920, 245)\n",
      "(1981, 245)\n"
     ]
    }
   ],
   "source": [
    "print(X_train.shape)\n",
    "print(X_test.shape)"
   ]
  },
  {
   "cell_type": "markdown",
   "metadata": {},
   "source": [
    "### Model Building\n",
    "\n",
    "we will now build our model using,\n",
    "\n",
    "1. Linear Regression\n",
    "2. Random Forest Regressor\n",
    "\n",
    "And later perform hyperparameter tuning using,\n",
    "\n",
    "1. k-Fold Cross Validation\n",
    "2. Grid Search CV"
   ]
  },
  {
   "cell_type": "markdown",
   "metadata": {},
   "source": [
    "### 1. Linear Regression"
   ]
  },
  {
   "cell_type": "code",
   "execution_count": 63,
   "metadata": {},
   "outputs": [
    {
     "data": {
      "text/plain": [
       "0.7983723472954243"
      ]
     },
     "execution_count": 63,
     "metadata": {},
     "output_type": "execute_result"
    }
   ],
   "source": [
    "from sklearn.linear_model import LinearRegression\n",
    "model = LinearRegression()\n",
    "model.fit(X_train,y_train)\n",
    "y_pred_lr = model.score(X_test,y_test)\n",
    "y_pred_lr"
   ]
  },
  {
   "cell_type": "markdown",
   "metadata": {},
   "source": [
    "### 2. Random Forest Regressor"
   ]
  },
  {
   "cell_type": "code",
   "execution_count": 64,
   "metadata": {},
   "outputs": [
    {
     "data": {
      "text/plain": [
       "0.7075486626812288"
      ]
     },
     "execution_count": 64,
     "metadata": {},
     "output_type": "execute_result"
    }
   ],
   "source": [
    "from sklearn.ensemble import RandomForestRegressor\n",
    "model_rf = RandomForestRegressor()\n",
    "model_rf.fit(X_train,y_train)\n",
    "y_pred_rf = model_rf.score(X_test,y_test)\n",
    "y_pred_rf"
   ]
  },
  {
   "cell_type": "markdown",
   "metadata": {},
   "source": [
    "### K-Fold Cross Validation for Linear Regression"
   ]
  },
  {
   "cell_type": "code",
   "execution_count": 65,
   "metadata": {},
   "outputs": [
    {
     "data": {
      "text/plain": [
       "array([0.80009756, 0.84082368, 0.86830743, 0.81744447, 0.84483844])"
      ]
     },
     "execution_count": 65,
     "metadata": {},
     "output_type": "execute_result"
    }
   ],
   "source": [
    "from sklearn.model_selection import ShuffleSplit\n",
    "from sklearn.model_selection import cross_val_score\n",
    "\n",
    "cv = ShuffleSplit(n_splits=5, test_size=0.2, random_state=0)\n",
    "\n",
    "cross_val_score(LinearRegression(), X, y, cv=cv)"
   ]
  },
  {
   "cell_type": "code",
   "execution_count": 66,
   "metadata": {},
   "outputs": [
    {
     "name": "stdout",
     "output_type": "stream",
     "text": [
      "The best score across ALL searched params:  0.8343023151252382\n"
     ]
    }
   ],
   "source": [
    "from sklearn.model_selection import GridSearchCV\n",
    "\n",
    "parameters = {\n",
    "    \n",
    "    'fit_intercept': [True, False],\n",
    "    'normalize': [True, False]\n",
    "}\n",
    "\n",
    "grid_cv = GridSearchCV(model, parameters, cv=cv)\n",
    "grid_cv.fit(X,y)\n",
    "\n",
    "\n",
    "print(\"The best score across ALL searched params: \",grid_cv.best_score_)\n"
   ]
  },
  {
   "cell_type": "markdown",
   "metadata": {},
   "source": [
    "### Test on New Data"
   ]
  },
  {
   "cell_type": "code",
   "execution_count": 67,
   "metadata": {},
   "outputs": [],
   "source": [
    "def predict_price(location,sqft,bath,balcony,bhk):    \n",
    "   \n",
    "\n",
    "    x = np.zeros(len(X.columns))\n",
    "    x[0] = sqft\n",
    "    x[1] = bath\n",
    "    x[2] = balcony\n",
    "    x[3] = bhk\n",
    "    if 'location_'+location in X.columns:\n",
    "        loc_index = np.where(X.columns==\"location_\"+location)[0][0]\n",
    "        x[loc_index] =1\n",
    "\n",
    "    return model.predict([x])[0]"
   ]
  },
  {
   "cell_type": "code",
   "execution_count": 68,
   "metadata": {},
   "outputs": [
    {
     "data": {
      "text/plain": [
       "56.78389626614806"
      ]
     },
     "execution_count": 68,
     "metadata": {},
     "output_type": "execute_result"
    }
   ],
   "source": [
    "predict_price('1st Phase JP Nagar',1000, 2, 2, 2)"
   ]
  },
  {
   "cell_type": "code",
   "execution_count": 69,
   "metadata": {},
   "outputs": [
    {
     "data": {
      "text/plain": [
       "129.55780305510507"
      ]
     },
     "execution_count": 69,
     "metadata": {},
     "output_type": "execute_result"
    }
   ],
   "source": [
    "predict_price('Whitefield',2000, 2, 2, 2)"
   ]
  },
  {
   "cell_type": "code",
   "execution_count": 70,
   "metadata": {},
   "outputs": [
    {
     "data": {
      "text/plain": [
       "164.47375503704222"
      ]
     },
     "execution_count": 70,
     "metadata": {},
     "output_type": "execute_result"
    }
   ],
   "source": [
    "predict_price('Padmanabhanagar',2400, 4, 3, 3)"
   ]
  },
  {
   "cell_type": "code",
   "execution_count": 71,
   "metadata": {},
   "outputs": [
    {
     "data": {
      "text/plain": [
       "200.96584784170227"
      ]
     },
     "execution_count": 71,
     "metadata": {},
     "output_type": "execute_result"
    }
   ],
   "source": [
    "predict_price('Sarjapur  Road',3000, 4, 4, 4)"
   ]
  },
  {
   "cell_type": "code",
   "execution_count": 72,
   "metadata": {},
   "outputs": [
    {
     "data": {
      "text/plain": [
       "129.55780305510507"
      ]
     },
     "execution_count": 72,
     "metadata": {},
     "output_type": "execute_result"
    }
   ],
   "source": [
    "predict_price('Sarjapur  Road',2000, 2, 2, 2)"
   ]
  },
  {
   "cell_type": "code",
   "execution_count": 73,
   "metadata": {},
   "outputs": [
    {
     "data": {
      "text/plain": [
       "56.61700241189308"
      ]
     },
     "execution_count": 73,
     "metadata": {},
     "output_type": "execute_result"
    }
   ],
   "source": [
    "predict_price('Indira Nagar',1000, 3, 2, 3)"
   ]
  },
  {
   "cell_type": "markdown",
   "metadata": {},
   "source": [
    "### Save the model in Pickle format"
   ]
  },
  {
   "cell_type": "code",
   "execution_count": 74,
   "metadata": {},
   "outputs": [],
   "source": [
    "import pickle\n",
    "pickle_out = open(\"price_model.pkl\",\"wb\")\n",
    "pickle.dump(model, pickle_out)\n",
    "pickle_out.close()"
   ]
  },
  {
   "cell_type": "markdown",
   "metadata": {},
   "source": [
    "### Export columns for in Json"
   ]
  },
  {
   "cell_type": "code",
   "execution_count": 75,
   "metadata": {},
   "outputs": [],
   "source": [
    "\n",
    "import json\n",
    "columns = {\n",
    "    'data_columns' : [col.lower() for col in X.columns]\n",
    "}\n",
    "with open(\"columns.json\",\"w\") as f:\n",
    "    f.write(json.dumps(columns))"
   ]
  }
 ],
 "metadata": {
  "kernelspec": {
   "display_name": "Python 3",
   "language": "python",
   "name": "python3"
  },
  "language_info": {
   "codemirror_mode": {
    "name": "ipython",
    "version": 3
   },
   "file_extension": ".py",
   "mimetype": "text/x-python",
   "name": "python",
   "nbconvert_exporter": "python",
   "pygments_lexer": "ipython3",
   "version": "3.8.3"
  }
 },
 "nbformat": 4,
 "nbformat_minor": 4
}
